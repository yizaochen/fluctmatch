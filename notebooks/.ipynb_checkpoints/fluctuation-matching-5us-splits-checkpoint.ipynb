{
 "cells": [
  {
   "cell_type": "code",
   "execution_count": null,
   "metadata": {},
   "outputs": [],
   "source": [
    "from fluctmatch import fluctmatch_interface\n",
    "bigtraj_folder = '/home/ytcdata/bigtraj_fluctmatch'"
   ]
  },
  {
   "cell_type": "code",
   "execution_count": null,
   "metadata": {},
   "outputs": [],
   "source": [
    "charmm = '/home/yizaochen/opt/c41b1_yz/charmm'\n",
    "host = 'a_tract_21mer\n",
    "time_label = '0_1000'\n",
    "bigtraj_folder = '/home/ytcdata/bigtraj_fluctmatch'\n",
    "type_na = 'bdna+bdna'\n",
    "cutoff = 4.7\n",
    "start = 0\n",
    "end = 3"
   ]
  },
  {
   "cell_type": "code",
   "execution_count": null,
   "metadata": {},
   "outputs": [],
   "source": [
    "fluctmatch_interface.main_split_window(bigtraj_folder, host, type_na, time_label, cutoff, start, end, charmm)"
   ]
  }
 ],
 "metadata": {
  "kernelspec": {
   "display_name": "Python 3",
   "language": "python",
   "name": "python3"
  },
  "language_info": {
   "codemirror_mode": {
    "name": "ipython",
    "version": 3
   },
   "file_extension": ".py",
   "mimetype": "text/x-python",
   "name": "python",
   "nbconvert_exporter": "python",
   "pygments_lexer": "ipython3",
   "version": "3.8.5"
  }
 },
 "nbformat": 4,
 "nbformat_minor": 4
}
