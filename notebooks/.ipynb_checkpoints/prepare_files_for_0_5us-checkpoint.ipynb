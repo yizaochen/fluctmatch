{
 "cells": [
  {
   "cell_type": "code",
   "execution_count": 1,
   "metadata": {},
   "outputs": [],
   "source": [
    "from os import path\n",
    "from fluctmatch.bigtraj import BigTrajAgent\n",
    "\n",
    "allsys_folder = '/home/yizaochen/codes/dna_rna/all_systems'\n",
    "bigtraj_folder = '/home/ytcdata/bigtraj_fluctmatch'\n",
    "simu_folder = '/home/ytcdata/simulation'"
   ]
  },
  {
   "cell_type": "code",
   "execution_count": 2,
   "metadata": {},
   "outputs": [
    {
     "name": "stdout",
     "output_type": "stream",
     "text": [
      "/home/yizaochen/codes/dna_rna/all_systems/a_tract_21mer exists\n",
      "/home/yizaochen/codes/dna_rna/all_systems/a_tract_21mer/bdna+bdna exists\n",
      "/home/yizaochen/codes/dna_rna/all_systems/a_tract_21mer/bdna+bdna/input exists\n",
      "/home/yizaochen/codes/dna_rna/all_systems/a_tract_21mer/bdna+bdna/input/allatoms exists\n",
      "/home/yizaochen/codes/dna_rna/all_systems/a_tract_21mer/bdna+bdna/input/heavyatoms exists\n",
      "/home/yizaochen/codes/dna_rna/all_systems/a_tract_21mer/bdna+bdna/charmm_inp exists\n",
      "/home/yizaochen/codes/dna_rna/all_systems/a_tract_21mer/bdna+bdna/charmm_dat exists\n",
      "/home/yizaochen/codes/dna_rna/all_systems/a_tract_21mer/bdna+bdna/make_crd exists\n"
     ]
    }
   ],
   "source": [
    "host = 'a_tract_21mer'\n",
    "type_na = 'bdna+bdna'\n",
    "b_agent = BigTrajAgent(host, type_na, allsys_folder, bigtraj_folder, simu_folder)"
   ]
  },
  {
   "cell_type": "code",
   "execution_count": 3,
   "metadata": {},
   "outputs": [
    {
     "data": {
      "text/plain": [
       "[(0, 1000),\n",
       " (500, 1500),\n",
       " (1000, 2000),\n",
       " (1500, 2500),\n",
       " (2000, 3000),\n",
       " (2500, 3500),\n",
       " (3000, 4000),\n",
       " (3500, 4500),\n",
       " (4000, 5000)]"
      ]
     },
     "execution_count": 3,
     "metadata": {},
     "output_type": "execute_result"
    }
   ],
   "source": [
    "b_agent.time_list"
   ]
  },
  {
   "cell_type": "code",
   "execution_count": null,
   "metadata": {},
   "outputs": [],
   "source": []
  }
 ],
 "metadata": {
  "kernelspec": {
   "display_name": "Python 3",
   "language": "python",
   "name": "python3"
  },
  "language_info": {
   "codemirror_mode": {
    "name": "ipython",
    "version": 3
   },
   "file_extension": ".py",
   "mimetype": "text/x-python",
   "name": "python",
   "nbconvert_exporter": "python",
   "pygments_lexer": "ipython3",
   "version": "3.8.5"
  }
 },
 "nbformat": 4,
 "nbformat_minor": 4
}
