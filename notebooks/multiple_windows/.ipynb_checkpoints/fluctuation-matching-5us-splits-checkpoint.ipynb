{
 "cells": [
  {
   "cell_type": "code",
   "execution_count": 1,
   "metadata": {},
   "outputs": [],
   "source": [
    "from fluctmatch import fluctmatch_interface\n",
    "bigtraj_folder = '/home/ytcdata/bigtraj_fluctmatch'"
   ]
  },
  {
   "cell_type": "code",
   "execution_count": 2,
   "metadata": {},
   "outputs": [],
   "source": [
    "charmm = '/home/yizaochen/opt/c41b1_yz/charmm'\n",
    "host = 'a_tract_21mer'\n",
    "time_label = '0_1000'\n",
    "bigtraj_folder = '/home/ytcdata/bigtraj_fluctmatch'\n",
    "type_na = 'bdna+bdna'\n",
    "cutoff = 4.7\n",
    "start = 0\n",
    "end = 3"
   ]
  },
  {
   "cell_type": "code",
   "execution_count": 3,
   "metadata": {},
   "outputs": [
    {
     "name": "stdout",
     "output_type": "stream",
     "text": [
      "/scratch/a_tract_21mer exists\n",
      "/scratch/a_tract_21mer/bdna+bdna exists\n",
      "/scratch/a_tract_21mer/bdna+bdna/0_1000 exists\n",
      "charmm< /home/ytcdata/bigtraj_fluctmatch/a_tract_21mer/bdna+bdna/0_1000/charmm_inp/ic_fluct_4.70.inp > /home/ytcdata/bigtraj_fluctmatch/a_tract_21mer/bdna+bdna/0_1000/charmm_dat/ic_fluct_4.70.dat\n",
      "charmm< /home/ytcdata/bigtraj_fluctmatch/a_tract_21mer/bdna+bdna/0_1000/charmm_inp/ic_avg_4.70.inp > /home/ytcdata/bigtraj_fluctmatch/a_tract_21mer/bdna+bdna/0_1000/charmm_dat/ic_avg_4.70.dat\n",
      "charmm< /scratch/a_tract_21mer/bdna+bdna/0_1000/nmainit.inp > /scratch/a_tract_21mer/bdna+bdna/0_1000/nmainit.dat\n",
      "/scratch/a_tract_21mer/bdna+bdna/0_1000/backup exists\n",
      "IterNum: 0\n",
      "charmm< /scratch/a_tract_21mer/bdna+bdna/0_1000/nma.inp > /scratch/a_tract_21mer/bdna+bdna/0_1000/nma.dat\n",
      "IterNum: 1\n",
      "charmm< /scratch/a_tract_21mer/bdna+bdna/0_1000/nma.inp > /scratch/a_tract_21mer/bdna+bdna/0_1000/nma.dat\n",
      "IterNum: 2\n",
      "charmm< /scratch/a_tract_21mer/bdna+bdna/0_1000/nma.inp > /scratch/a_tract_21mer/bdna+bdna/0_1000/nma.dat\n",
      "mkdir /home/ytcdata/bigtraj_fluctmatch/a_tract_21mer/bdna+bdna/0_1000/cutoffdata\n",
      "cp /scratch/a_tract_21mer/bdna+bdna/0_1000/na_enm_4.70.prm /home/ytcdata/bigtraj_fluctmatch/a_tract_21mer/bdna+bdna/0_1000/cutoffdata/na_enm_4.70.prm\n",
      "cp /scratch/a_tract_21mer/bdna+bdna/0_1000/error_4.70.txt /home/ytcdata/bigtraj_fluctmatch/a_tract_21mer/bdna+bdna/0_1000/cutoffdata/error_4.70.txt\n"
     ]
    }
   ],
   "source": [
    "fluctmatch_interface.main_split_window(bigtraj_folder, host, type_na, time_label, cutoff, start, end, charmm)"
   ]
  },
  {
   "cell_type": "code",
   "execution_count": null,
   "metadata": {},
   "outputs": [],
   "source": []
  }
 ],
 "metadata": {
  "kernelspec": {
   "display_name": "Python 3",
   "language": "python",
   "name": "python3"
  },
  "language_info": {
   "codemirror_mode": {
    "name": "ipython",
    "version": 3
   },
   "file_extension": ".py",
   "mimetype": "text/x-python",
   "name": "python",
   "nbconvert_exporter": "python",
   "pygments_lexer": "ipython3",
   "version": "3.8.5"
  }
 },
 "nbformat": 4,
 "nbformat_minor": 4
}
