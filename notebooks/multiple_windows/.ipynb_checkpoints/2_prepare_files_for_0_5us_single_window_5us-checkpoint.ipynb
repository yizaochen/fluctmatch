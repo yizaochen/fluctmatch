{
 "cells": [
  {
   "cell_type": "code",
   "execution_count": 24,
   "metadata": {},
   "outputs": [],
   "source": [
    "from os import path\n",
    "from fluctmatch.bigtraj import BigTrajAgent\n",
    "\n",
    "allsys_folder = '/home/yizaochen/codes/dna_rna/all_systems'\n",
    "bigtraj_folder = '/home/ytcdata/bigtraj_fluctmatch/5000ns'\n",
    "simu_folder = '/home/ytcdata/simulation'\n",
    "cutoff = 4.7"
   ]
  },
  {
   "cell_type": "markdown",
   "metadata": {},
   "source": [
    "### Part 1: Initialize\n",
    "This notebook should be execute in local computer"
   ]
  },
  {
   "cell_type": "code",
   "execution_count": 28,
   "metadata": {},
   "outputs": [
    {
     "name": "stdout",
     "output_type": "stream",
     "text": [
      "/home/yizaochen/codes/dna_rna/all_systems/gcgc_21mer exists\n",
      "/home/yizaochen/codes/dna_rna/all_systems/gcgc_21mer/bdna+bdna exists\n",
      "/home/yizaochen/codes/dna_rna/all_systems/gcgc_21mer/bdna+bdna/input exists\n",
      "/home/yizaochen/codes/dna_rna/all_systems/gcgc_21mer/bdna+bdna/input/allatoms exists\n",
      "/home/yizaochen/codes/dna_rna/all_systems/gcgc_21mer/bdna+bdna/input/heavyatoms exists\n",
      "/home/yizaochen/codes/dna_rna/all_systems/gcgc_21mer/bdna+bdna/charmm_inp exists\n",
      "/home/yizaochen/codes/dna_rna/all_systems/gcgc_21mer/bdna+bdna/charmm_dat exists\n",
      "/home/yizaochen/codes/dna_rna/all_systems/gcgc_21mer/bdna+bdna/make_crd exists\n"
     ]
    }
   ],
   "source": [
    "host = 'g_tract_21mer'\n",
    "type_na = 'bdna+bdna'\n",
    "split_5 = False\n",
    "one_big_window = True\n",
    "b_agent = BigTrajAgent(host, type_na, allsys_folder, bigtraj_folder, simu_folder, split_5, one_big_window)"
   ]
  },
  {
   "cell_type": "code",
   "execution_count": 29,
   "metadata": {},
   "outputs": [
    {
     "data": {
      "text/plain": [
       "[(0, 5000)]"
      ]
     },
     "execution_count": 29,
     "metadata": {},
     "output_type": "execute_result"
    }
   ],
   "source": [
    "b_agent.time_list\n",
    "#b_agent.mdnum_list"
   ]
  },
  {
   "cell_type": "markdown",
   "metadata": {},
   "source": [
    "### Part 2: Initialize all small folders"
   ]
  },
  {
   "cell_type": "code",
   "execution_count": 30,
   "metadata": {},
   "outputs": [
    {
     "name": "stdout",
     "output_type": "stream",
     "text": [
      "mkdir /home/ytcdata/bigtraj_fluctmatch/5000ns/gcgc_21mer\n",
      "mkdir /home/ytcdata/bigtraj_fluctmatch/5000ns/gcgc_21mer/bdna+bdna\n",
      "mkdir /home/ytcdata/bigtraj_fluctmatch/5000ns/gcgc_21mer/bdna+bdna/0_5000\n",
      "mkdir /home/ytcdata/bigtraj_fluctmatch/5000ns/gcgc_21mer/bdna+bdna/0_5000/input\n",
      "mkdir /home/ytcdata/bigtraj_fluctmatch/5000ns/gcgc_21mer/bdna+bdna/0_5000/charmm_inp\n",
      "mkdir /home/ytcdata/bigtraj_fluctmatch/5000ns/gcgc_21mer/bdna+bdna/0_5000/charmm_dat\n",
      "mkdir /home/ytcdata/bigtraj_fluctmatch/5000ns/gcgc_21mer/bdna+bdna/0_5000/ic\n",
      "mkdir /home/ytcdata/bigtraj_fluctmatch/5000ns/gcgc_21mer/bdna+bdna/0_5000/ic_fluct_mat\n",
      "mkdir /home/ytcdata/bigtraj_fluctmatch/5000ns/gcgc_21mer/bdna+bdna/0_5000/rtf_ic_str\n",
      "mkdir /home/ytcdata/bigtraj_fluctmatch/5000ns/gcgc_21mer/bdna+bdna/0_5000/data\n",
      "mkdir /home/ytcdata/bigtraj_fluctmatch/5000ns/gcgc_21mer/bdna+bdna/0_5000/data/backup\n"
     ]
    }
   ],
   "source": [
    "b_agent.initialize_all_small_folders()"
   ]
  },
  {
   "cell_type": "markdown",
   "metadata": {},
   "source": [
    "### Part 3: Copy bdna+bdna.nohydrogen.crd to each small folder"
   ]
  },
  {
   "cell_type": "code",
   "execution_count": 31,
   "metadata": {},
   "outputs": [
    {
     "name": "stdout",
     "output_type": "stream",
     "text": [
      "cp /home/yizaochen/codes/dna_rna/all_systems/gcgc_21mer/bdna+bdna/input/heavyatoms/bdna+bdna.nohydrogen.crd /home/ytcdata/bigtraj_fluctmatch/5000ns/gcgc_21mer/bdna+bdna/0_5000/input/bdna+bdna.nohydrogen.crd\n"
     ]
    }
   ],
   "source": [
    "b_agent.copy_refcrd_to_smallfolders()"
   ]
  },
  {
   "cell_type": "markdown",
   "metadata": {},
   "source": [
    "### Part 4: Prepare dcd without hydrogens"
   ]
  },
  {
   "cell_type": "code",
   "execution_count": 34,
   "metadata": {},
   "outputs": [
    {
     "name": "stdout",
     "output_type": "stream",
     "text": [
      "cp /home/yizaochen/codes/dna_rna/all_systems/gcgc_21mer/bdna+bdna/input/heavyatoms/bdna+bdna.nohydrogen.dcd /home/ytcdata/bigtraj_fluctmatch/5000ns/gcgc_21mer/bdna+bdna/0_5000/input/0_5000.nohydrogen.dcd\n"
     ]
    }
   ],
   "source": [
    "b_agent.copy_no_h_5us_dcd_to_smallfolder()"
   ]
  },
  {
   "cell_type": "code",
   "execution_count": 35,
   "metadata": {},
   "outputs": [
    {
     "name": "stdout",
     "output_type": "stream",
     "text": [
      "vmd -cor /home/ytcdata/bigtraj_fluctmatch/5000ns/gcgc_21mer/bdna+bdna/0_5000/input/bdna+bdna.nohydrogen.crd /home/ytcdata/bigtraj_fluctmatch/5000ns/gcgc_21mer/bdna+bdna/0_5000/input/0_5000.nohydrogen.dcd\n"
     ]
    }
   ],
   "source": [
    "# check\n",
    "b_agent.check_no_h_5us_dcd()"
   ]
  },
  {
   "cell_type": "markdown",
   "metadata": {},
   "source": [
    "### Part 5: prepare ENM files"
   ]
  },
  {
   "cell_type": "markdown",
   "metadata": {},
   "source": [
    "##### Set required dictionary"
   ]
  },
  {
   "cell_type": "code",
   "execution_count": 36,
   "metadata": {},
   "outputs": [],
   "source": [
    "b_agent.set_required_dictionaries()"
   ]
  },
  {
   "cell_type": "markdown",
   "metadata": {},
   "source": [
    "Get All Pairs"
   ]
  },
  {
   "cell_type": "code",
   "execution_count": 37,
   "metadata": {},
   "outputs": [
    {
     "name": "stdout",
     "output_type": "stream",
     "text": [
      "0_5000: 855 beads and 8944 pairs\n"
     ]
    }
   ],
   "source": [
    "b_agent.get_all_pairs(cutoff)"
   ]
  },
  {
   "cell_type": "markdown",
   "metadata": {},
   "source": [
    "Make RTF"
   ]
  },
  {
   "cell_type": "code",
   "execution_count": 38,
   "metadata": {},
   "outputs": [
    {
     "name": "stdout",
     "output_type": "stream",
     "text": [
      "Generate /home/ytcdata/bigtraj_fluctmatch/5000ns/gcgc_21mer/bdna+bdna/0_5000/rtf_ic_str/na_enm_4.70.rtf\n"
     ]
    }
   ],
   "source": [
    "b_agent.make_all_rtfs(cutoff)"
   ]
  },
  {
   "cell_type": "markdown",
   "metadata": {},
   "source": [
    "Make IC-Stream "
   ]
  },
  {
   "cell_type": "code",
   "execution_count": 39,
   "metadata": {},
   "outputs": [
    {
     "name": "stdout",
     "output_type": "stream",
     "text": [
      "Generate /home/ytcdata/bigtraj_fluctmatch/5000ns/gcgc_21mer/bdna+bdna/0_5000/rtf_ic_str/na_enm_4.70.str\n"
     ]
    }
   ],
   "source": [
    "b_agent.make_all_icstrs(cutoff)"
   ]
  },
  {
   "cell_type": "markdown",
   "metadata": {},
   "source": [
    "Make ENM CRD"
   ]
  },
  {
   "cell_type": "code",
   "execution_count": 40,
   "metadata": {},
   "outputs": [
    {
     "name": "stdout",
     "output_type": "stream",
     "text": [
      "charmm< /home/ytcdata/bigtraj_fluctmatch/5000ns/gcgc_21mer/bdna+bdna/0_5000/charmm_inp/make_enm_crd.inp > /home/ytcdata/bigtraj_fluctmatch/5000ns/gcgc_21mer/bdna+bdna/0_5000/charmm_dat/make_enm_crd.dat\n"
     ]
    }
   ],
   "source": [
    "b_agent.make_all_enm_crds()"
   ]
  },
  {
   "cell_type": "markdown",
   "metadata": {},
   "source": [
    "### Part 6: Tarball and Update to multiphysics"
   ]
  },
  {
   "cell_type": "code",
   "execution_count": 41,
   "metadata": {},
   "outputs": [
    {
     "name": "stdout",
     "output_type": "stream",
     "text": [
      "Archive /home/ytcdata/bigtraj_fluctmatch/5000ns/gcgc_21mer into /home/ytcdata/bigtraj_fluctmatch/5000ns/gcgc_21mer.zip\n"
     ]
    }
   ],
   "source": [
    "b_agent.archive_host_folder()"
   ]
  },
  {
   "cell_type": "code",
   "execution_count": 42,
   "metadata": {},
   "outputs": [
    {
     "name": "stdout",
     "output_type": "stream",
     "text": [
      "scp /home/ytcdata/bigtraj_fluctmatch/5000ns/gcgc_21mer.zip yizaochen@multiscale:/home/yizaochen/bigtraj_fluctmatch/5000ns/gcgc_21mer.zip\n"
     ]
    }
   ],
   "source": [
    "#b_agent.update_to_multiphysics()\n",
    "b_agent.update_to_multiscale()"
   ]
  },
  {
   "cell_type": "code",
   "execution_count": null,
   "metadata": {},
   "outputs": [],
   "source": []
  }
 ],
 "metadata": {
  "kernelspec": {
   "display_name": "Python 3",
   "language": "python",
   "name": "python3"
  },
  "language_info": {
   "codemirror_mode": {
    "name": "ipython",
    "version": 3
   },
   "file_extension": ".py",
   "mimetype": "text/x-python",
   "name": "python",
   "nbconvert_exporter": "python",
   "pygments_lexer": "ipython3",
   "version": "3.8.5"
  }
 },
 "nbformat": 4,
 "nbformat_minor": 4
}
