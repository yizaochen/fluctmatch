{
 "cells": [
  {
   "cell_type": "markdown",
   "metadata": {},
   "source": [
    "##### This notebook should be used on the server"
   ]
  },
  {
   "cell_type": "code",
   "execution_count": 1,
   "metadata": {},
   "outputs": [],
   "source": [
    "from fluctmatch.bigtraj import BigTrajOnServer"
   ]
  },
  {
   "cell_type": "markdown",
   "metadata": {},
   "source": [
    "### Part 1: Initialize"
   ]
  },
  {
   "cell_type": "code",
   "execution_count": 17,
   "metadata": {},
   "outputs": [],
   "source": [
    "host = 'gcgc_21mer'\n",
    "type_na = 'bdna+bdna'\n",
    "split_5 = False\n",
    "one_big_window = False\n",
    "\n",
    "#bigtraj_folder = '/home/yizaochen/bigtraj_fluctmatch/split_5'\n",
    "#bigtraj_folder = '/home/yizaochen/bigtraj_fluctmatch/5000ns'\n",
    "bigtraj_folder = '/home/yizaochen/bigtraj_fluctmatch/1000ns'\n",
    "\n",
    "b_agent = BigTrajOnServer(host, type_na, bigtraj_folder, split_5, one_big_window)"
   ]
  },
  {
   "cell_type": "markdown",
   "metadata": {},
   "source": [
    "### Part 2: Unarchive folder"
   ]
  },
  {
   "cell_type": "code",
   "execution_count": 18,
   "metadata": {},
   "outputs": [
    {
     "name": "stdout",
     "output_type": "stream",
     "text": [
      "mkdir /home/yizaochen/bigtraj_fluctmatch/1000ns/gcgc_21mer\n",
      "Unzip /home/yizaochen/bigtraj_fluctmatch/1000ns/zipfiles/gcgc_21mer.zip into /home/yizaochen/bigtraj_fluctmatch/1000ns/gcgc_21mer\n"
     ]
    }
   ],
   "source": [
    "b_agent.unarchive_folder()"
   ]
  },
  {
   "cell_type": "markdown",
   "metadata": {},
   "source": [
    "### Part 3: Generate python files"
   ]
  },
  {
   "cell_type": "code",
   "execution_count": 19,
   "metadata": {},
   "outputs": [
    {
     "name": "stdout",
     "output_type": "stream",
     "text": [
      "Generate /home/yizaochen/bigtraj_fluctmatch/1000ns/gcgc_21mer/bdna+bdna/0_1000/fluct_main.py\n",
      "Generate /home/yizaochen/bigtraj_fluctmatch/1000ns/gcgc_21mer/bdna+bdna/500_1500/fluct_main.py\n",
      "Generate /home/yizaochen/bigtraj_fluctmatch/1000ns/gcgc_21mer/bdna+bdna/1000_2000/fluct_main.py\n",
      "Generate /home/yizaochen/bigtraj_fluctmatch/1000ns/gcgc_21mer/bdna+bdna/1500_2500/fluct_main.py\n",
      "Generate /home/yizaochen/bigtraj_fluctmatch/1000ns/gcgc_21mer/bdna+bdna/2000_3000/fluct_main.py\n",
      "Generate /home/yizaochen/bigtraj_fluctmatch/1000ns/gcgc_21mer/bdna+bdna/2500_3500/fluct_main.py\n",
      "Generate /home/yizaochen/bigtraj_fluctmatch/1000ns/gcgc_21mer/bdna+bdna/3000_4000/fluct_main.py\n",
      "Generate /home/yizaochen/bigtraj_fluctmatch/1000ns/gcgc_21mer/bdna+bdna/3500_4500/fluct_main.py\n",
      "Generate /home/yizaochen/bigtraj_fluctmatch/1000ns/gcgc_21mer/bdna+bdna/4000_5000/fluct_main.py\n"
     ]
    }
   ],
   "source": [
    "start = 0\n",
    "end = 250 # test\n",
    "b_agent.generate_python_files(start, end)"
   ]
  },
  {
   "cell_type": "markdown",
   "metadata": {},
   "source": [
    "### Part 4: Generate qsub scripts for all small trajectories"
   ]
  },
  {
   "cell_type": "code",
   "execution_count": 20,
   "metadata": {},
   "outputs": [
    {
     "name": "stdout",
     "output_type": "stream",
     "text": [
      "mkdir /home/yizaochen/bigtraj_fluctmatch/1000ns/gcgc_21mer/bdna+bdna/0_1000/qsub_scripts\n",
      "mkdir /home/yizaochen/bigtraj_fluctmatch/1000ns/gcgc_21mer/bdna+bdna/500_1500/qsub_scripts\n",
      "mkdir /home/yizaochen/bigtraj_fluctmatch/1000ns/gcgc_21mer/bdna+bdna/1000_2000/qsub_scripts\n",
      "mkdir /home/yizaochen/bigtraj_fluctmatch/1000ns/gcgc_21mer/bdna+bdna/1500_2500/qsub_scripts\n",
      "mkdir /home/yizaochen/bigtraj_fluctmatch/1000ns/gcgc_21mer/bdna+bdna/2000_3000/qsub_scripts\n",
      "mkdir /home/yizaochen/bigtraj_fluctmatch/1000ns/gcgc_21mer/bdna+bdna/2500_3500/qsub_scripts\n",
      "mkdir /home/yizaochen/bigtraj_fluctmatch/1000ns/gcgc_21mer/bdna+bdna/3000_4000/qsub_scripts\n",
      "mkdir /home/yizaochen/bigtraj_fluctmatch/1000ns/gcgc_21mer/bdna+bdna/3500_4500/qsub_scripts\n",
      "mkdir /home/yizaochen/bigtraj_fluctmatch/1000ns/gcgc_21mer/bdna+bdna/4000_5000/qsub_scripts\n"
     ]
    }
   ],
   "source": [
    "path_to_pythonexec = 'python'\n",
    "b_agent.generate_qsub_scripts(path_to_pythonexec)"
   ]
  },
  {
   "cell_type": "markdown",
   "metadata": {},
   "source": [
    "### Part 5: Submit all qsub files"
   ]
  },
  {
   "cell_type": "code",
   "execution_count": 21,
   "metadata": {},
   "outputs": [
    {
     "name": "stdout",
     "output_type": "stream",
     "text": [
      "qsub /home/yizaochen/bigtraj_fluctmatch/1000ns/gcgc_21mer/bdna+bdna/0_1000/qsub_scripts/fluct_main.qsub\n",
      "qsub /home/yizaochen/bigtraj_fluctmatch/1000ns/gcgc_21mer/bdna+bdna/500_1500/qsub_scripts/fluct_main.qsub\n",
      "qsub /home/yizaochen/bigtraj_fluctmatch/1000ns/gcgc_21mer/bdna+bdna/1000_2000/qsub_scripts/fluct_main.qsub\n",
      "qsub /home/yizaochen/bigtraj_fluctmatch/1000ns/gcgc_21mer/bdna+bdna/1500_2500/qsub_scripts/fluct_main.qsub\n",
      "qsub /home/yizaochen/bigtraj_fluctmatch/1000ns/gcgc_21mer/bdna+bdna/2000_3000/qsub_scripts/fluct_main.qsub\n",
      "qsub /home/yizaochen/bigtraj_fluctmatch/1000ns/gcgc_21mer/bdna+bdna/2500_3500/qsub_scripts/fluct_main.qsub\n",
      "qsub /home/yizaochen/bigtraj_fluctmatch/1000ns/gcgc_21mer/bdna+bdna/3000_4000/qsub_scripts/fluct_main.qsub\n",
      "qsub /home/yizaochen/bigtraj_fluctmatch/1000ns/gcgc_21mer/bdna+bdna/3500_4500/qsub_scripts/fluct_main.qsub\n",
      "qsub /home/yizaochen/bigtraj_fluctmatch/1000ns/gcgc_21mer/bdna+bdna/4000_5000/qsub_scripts/fluct_main.qsub\n"
     ]
    }
   ],
   "source": [
    "b_agent.submit_all_qsubs()"
   ]
  },
  {
   "cell_type": "code",
   "execution_count": null,
   "metadata": {},
   "outputs": [],
   "source": []
  }
 ],
 "metadata": {
  "kernelspec": {
   "display_name": "Python 3",
   "language": "python",
   "name": "python3"
  },
  "language_info": {
   "codemirror_mode": {
    "name": "ipython",
    "version": 3
   },
   "file_extension": ".py",
   "mimetype": "text/x-python",
   "name": "python",
   "nbconvert_exporter": "python",
   "pygments_lexer": "ipython3",
   "version": "3.8.6"
  }
 },
 "nbformat": 4,
 "nbformat_minor": 4
}
