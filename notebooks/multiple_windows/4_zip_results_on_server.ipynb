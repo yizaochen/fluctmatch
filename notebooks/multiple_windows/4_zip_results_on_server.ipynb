{
 "cells": [
  {
   "cell_type": "markdown",
   "metadata": {},
   "source": [
    "##### This notebook should be used on the server"
   ]
  },
  {
   "cell_type": "code",
   "execution_count": 1,
   "metadata": {},
   "outputs": [],
   "source": [
    "from fluctmatch.bigtraj import BigTrajOnServer\n",
    "cutoff = 4.7"
   ]
  },
  {
   "cell_type": "markdown",
   "metadata": {},
   "source": [
    "### Part 1: Initialize"
   ]
  },
  {
   "cell_type": "code",
   "execution_count": 10,
   "metadata": {},
   "outputs": [],
   "source": [
    "host = 'gcgc_21mer'\n",
    "type_na = 'bdna+bdna'\n",
    "split_5 = False\n",
    "one_big_window = True\n",
    "\n",
    "#bigtraj_folder = '/home/yizaochen/bigtraj_fluctmatch/split_5'\n",
    "bigtraj_folder = '/home/yizaochen/bigtraj_fluctmatch/5000ns'\n",
    "#bigtraj_folder = '/home/yizaochen/bigtraj_fluctmatch/1000ns'\n",
    "\n",
    "b_agent = BigTrajOnServer(host, type_na, bigtraj_folder, split_5, one_big_window)"
   ]
  },
  {
   "cell_type": "markdown",
   "metadata": {},
   "source": [
    "### Part 2: Zip all results"
   ]
  },
  {
   "cell_type": "code",
   "execution_count": 11,
   "metadata": {},
   "outputs": [
    {
     "name": "stdout",
     "output_type": "stream",
     "text": [
      "mkdir /home/yizaochen/bigtraj_fluctmatch/5000ns/zipfiles/gcgc_21mer\n",
      "mkdir /home/yizaochen/bigtraj_fluctmatch/5000ns/zipfiles/gcgc_21mer/bdna+bdna\n",
      "mkdir /home/yizaochen/bigtraj_fluctmatch/5000ns/zipfiles/gcgc_21mer/bdna+bdna/0_5000\n",
      "cp /home/yizaochen/bigtraj_fluctmatch/5000ns/gcgc_21mer/bdna+bdna/0_5000/cutoffdata/na_enm_4.70.prm /home/yizaochen/bigtraj_fluctmatch/5000ns/zipfiles/gcgc_21mer/bdna+bdna/0_5000/na_enm_4.70.prm\n",
      "Archive /home/yizaochen/bigtraj_fluctmatch/5000ns/zipfiles/gcgc_21mer into /home/yizaochen/bigtraj_fluctmatch/5000ns/zipfiles/gcgc_21mer_results.zip\n"
     ]
    }
   ],
   "source": [
    "b_agent.zip_all_results(cutoff)"
   ]
  },
  {
   "cell_type": "code",
   "execution_count": null,
   "metadata": {},
   "outputs": [],
   "source": []
  }
 ],
 "metadata": {
  "kernelspec": {
   "display_name": "Python 3",
   "language": "python",
   "name": "python3"
  },
  "language_info": {
   "codemirror_mode": {
    "name": "ipython",
    "version": 3
   },
   "file_extension": ".py",
   "mimetype": "text/x-python",
   "name": "python",
   "nbconvert_exporter": "python",
   "pygments_lexer": "ipython3",
   "version": "3.8.6"
  }
 },
 "nbformat": 4,
 "nbformat_minor": 4
}
