{
 "cells": [
  {
   "cell_type": "code",
   "execution_count": 1,
   "metadata": {},
   "outputs": [],
   "source": [
    "from os import path\n",
    "from fluctmatch.bigtraj import BigTrajAgent\n",
    "\n",
    "allsys_folder = '/home/yizaochen/codes/dna_rna/all_systems'\n",
    "bigtraj_folder = '/home/ytcdata/bigtraj_fluctmatch/split_5'\n",
    "simu_folder = '/home/ytcdata/simulation'\n",
    "cutoff = 4.7"
   ]
  },
  {
   "cell_type": "markdown",
   "metadata": {},
   "source": [
    "### Part 1: Initialize\n",
    "This notebook should be execute in local computer"
   ]
  },
  {
   "cell_type": "code",
   "execution_count": 2,
   "metadata": {},
   "outputs": [
    {
     "name": "stdout",
     "output_type": "stream",
     "text": [
      "/home/yizaochen/codes/dna_rna/all_systems/tat_21mer exists\n",
      "/home/yizaochen/codes/dna_rna/all_systems/tat_21mer/bdna+bdna exists\n",
      "/home/yizaochen/codes/dna_rna/all_systems/tat_21mer/bdna+bdna/input exists\n",
      "/home/yizaochen/codes/dna_rna/all_systems/tat_21mer/bdna+bdna/input/allatoms exists\n",
      "/home/yizaochen/codes/dna_rna/all_systems/tat_21mer/bdna+bdna/input/heavyatoms exists\n",
      "/home/yizaochen/codes/dna_rna/all_systems/tat_21mer/bdna+bdna/charmm_inp exists\n",
      "/home/yizaochen/codes/dna_rna/all_systems/tat_21mer/bdna+bdna/charmm_dat exists\n",
      "/home/yizaochen/codes/dna_rna/all_systems/tat_21mer/bdna+bdna/make_crd exists\n"
     ]
    }
   ],
   "source": [
    "host = 'tat_21mer'\n",
    "type_na = 'bdna+bdna'\n",
    "split_5 = True\n",
    "b_agent = BigTrajAgent(host, type_na, allsys_folder, bigtraj_folder, simu_folder, split_5)"
   ]
  },
  {
   "cell_type": "code",
   "execution_count": 3,
   "metadata": {},
   "outputs": [
    {
     "data": {
      "text/plain": [
       "[(0, 1), (1, 2), (2, 3), (3, 4), (4, 5)]"
      ]
     },
     "execution_count": 3,
     "metadata": {},
     "output_type": "execute_result"
    }
   ],
   "source": [
    "b_agent.time_list\n",
    "#b_agent.mdnum_list"
   ]
  },
  {
   "cell_type": "markdown",
   "metadata": {},
   "source": [
    "### Part 2: Initialize all small folders"
   ]
  },
  {
   "cell_type": "code",
   "execution_count": 4,
   "metadata": {
    "collapsed": true,
    "jupyter": {
     "outputs_hidden": true
    }
   },
   "outputs": [
    {
     "name": "stdout",
     "output_type": "stream",
     "text": [
      "mkdir /home/ytcdata/bigtraj_fluctmatch/split_5/tat_21mer\n",
      "mkdir /home/ytcdata/bigtraj_fluctmatch/split_5/tat_21mer/bdna+bdna\n",
      "mkdir /home/ytcdata/bigtraj_fluctmatch/split_5/tat_21mer/bdna+bdna/0_1\n",
      "mkdir /home/ytcdata/bigtraj_fluctmatch/split_5/tat_21mer/bdna+bdna/0_1/input\n",
      "mkdir /home/ytcdata/bigtraj_fluctmatch/split_5/tat_21mer/bdna+bdna/0_1/charmm_inp\n",
      "mkdir /home/ytcdata/bigtraj_fluctmatch/split_5/tat_21mer/bdna+bdna/0_1/charmm_dat\n",
      "mkdir /home/ytcdata/bigtraj_fluctmatch/split_5/tat_21mer/bdna+bdna/0_1/ic\n",
      "mkdir /home/ytcdata/bigtraj_fluctmatch/split_5/tat_21mer/bdna+bdna/0_1/ic_fluct_mat\n",
      "mkdir /home/ytcdata/bigtraj_fluctmatch/split_5/tat_21mer/bdna+bdna/0_1/rtf_ic_str\n",
      "mkdir /home/ytcdata/bigtraj_fluctmatch/split_5/tat_21mer/bdna+bdna/0_1/data\n",
      "mkdir /home/ytcdata/bigtraj_fluctmatch/split_5/tat_21mer/bdna+bdna/0_1/data/backup\n",
      "/home/ytcdata/bigtraj_fluctmatch/split_5/tat_21mer exists\n",
      "/home/ytcdata/bigtraj_fluctmatch/split_5/tat_21mer/bdna+bdna exists\n",
      "mkdir /home/ytcdata/bigtraj_fluctmatch/split_5/tat_21mer/bdna+bdna/1_2\n",
      "mkdir /home/ytcdata/bigtraj_fluctmatch/split_5/tat_21mer/bdna+bdna/1_2/input\n",
      "mkdir /home/ytcdata/bigtraj_fluctmatch/split_5/tat_21mer/bdna+bdna/1_2/charmm_inp\n",
      "mkdir /home/ytcdata/bigtraj_fluctmatch/split_5/tat_21mer/bdna+bdna/1_2/charmm_dat\n",
      "mkdir /home/ytcdata/bigtraj_fluctmatch/split_5/tat_21mer/bdna+bdna/1_2/ic\n",
      "mkdir /home/ytcdata/bigtraj_fluctmatch/split_5/tat_21mer/bdna+bdna/1_2/ic_fluct_mat\n",
      "mkdir /home/ytcdata/bigtraj_fluctmatch/split_5/tat_21mer/bdna+bdna/1_2/rtf_ic_str\n",
      "mkdir /home/ytcdata/bigtraj_fluctmatch/split_5/tat_21mer/bdna+bdna/1_2/data\n",
      "mkdir /home/ytcdata/bigtraj_fluctmatch/split_5/tat_21mer/bdna+bdna/1_2/data/backup\n",
      "/home/ytcdata/bigtraj_fluctmatch/split_5/tat_21mer exists\n",
      "/home/ytcdata/bigtraj_fluctmatch/split_5/tat_21mer/bdna+bdna exists\n",
      "mkdir /home/ytcdata/bigtraj_fluctmatch/split_5/tat_21mer/bdna+bdna/2_3\n",
      "mkdir /home/ytcdata/bigtraj_fluctmatch/split_5/tat_21mer/bdna+bdna/2_3/input\n",
      "mkdir /home/ytcdata/bigtraj_fluctmatch/split_5/tat_21mer/bdna+bdna/2_3/charmm_inp\n",
      "mkdir /home/ytcdata/bigtraj_fluctmatch/split_5/tat_21mer/bdna+bdna/2_3/charmm_dat\n",
      "mkdir /home/ytcdata/bigtraj_fluctmatch/split_5/tat_21mer/bdna+bdna/2_3/ic\n",
      "mkdir /home/ytcdata/bigtraj_fluctmatch/split_5/tat_21mer/bdna+bdna/2_3/ic_fluct_mat\n",
      "mkdir /home/ytcdata/bigtraj_fluctmatch/split_5/tat_21mer/bdna+bdna/2_3/rtf_ic_str\n",
      "mkdir /home/ytcdata/bigtraj_fluctmatch/split_5/tat_21mer/bdna+bdna/2_3/data\n",
      "mkdir /home/ytcdata/bigtraj_fluctmatch/split_5/tat_21mer/bdna+bdna/2_3/data/backup\n",
      "/home/ytcdata/bigtraj_fluctmatch/split_5/tat_21mer exists\n",
      "/home/ytcdata/bigtraj_fluctmatch/split_5/tat_21mer/bdna+bdna exists\n",
      "mkdir /home/ytcdata/bigtraj_fluctmatch/split_5/tat_21mer/bdna+bdna/3_4\n",
      "mkdir /home/ytcdata/bigtraj_fluctmatch/split_5/tat_21mer/bdna+bdna/3_4/input\n",
      "mkdir /home/ytcdata/bigtraj_fluctmatch/split_5/tat_21mer/bdna+bdna/3_4/charmm_inp\n",
      "mkdir /home/ytcdata/bigtraj_fluctmatch/split_5/tat_21mer/bdna+bdna/3_4/charmm_dat\n",
      "mkdir /home/ytcdata/bigtraj_fluctmatch/split_5/tat_21mer/bdna+bdna/3_4/ic\n",
      "mkdir /home/ytcdata/bigtraj_fluctmatch/split_5/tat_21mer/bdna+bdna/3_4/ic_fluct_mat\n",
      "mkdir /home/ytcdata/bigtraj_fluctmatch/split_5/tat_21mer/bdna+bdna/3_4/rtf_ic_str\n",
      "mkdir /home/ytcdata/bigtraj_fluctmatch/split_5/tat_21mer/bdna+bdna/3_4/data\n",
      "mkdir /home/ytcdata/bigtraj_fluctmatch/split_5/tat_21mer/bdna+bdna/3_4/data/backup\n",
      "/home/ytcdata/bigtraj_fluctmatch/split_5/tat_21mer exists\n",
      "/home/ytcdata/bigtraj_fluctmatch/split_5/tat_21mer/bdna+bdna exists\n",
      "mkdir /home/ytcdata/bigtraj_fluctmatch/split_5/tat_21mer/bdna+bdna/4_5\n",
      "mkdir /home/ytcdata/bigtraj_fluctmatch/split_5/tat_21mer/bdna+bdna/4_5/input\n",
      "mkdir /home/ytcdata/bigtraj_fluctmatch/split_5/tat_21mer/bdna+bdna/4_5/charmm_inp\n",
      "mkdir /home/ytcdata/bigtraj_fluctmatch/split_5/tat_21mer/bdna+bdna/4_5/charmm_dat\n",
      "mkdir /home/ytcdata/bigtraj_fluctmatch/split_5/tat_21mer/bdna+bdna/4_5/ic\n",
      "mkdir /home/ytcdata/bigtraj_fluctmatch/split_5/tat_21mer/bdna+bdna/4_5/ic_fluct_mat\n",
      "mkdir /home/ytcdata/bigtraj_fluctmatch/split_5/tat_21mer/bdna+bdna/4_5/rtf_ic_str\n",
      "mkdir /home/ytcdata/bigtraj_fluctmatch/split_5/tat_21mer/bdna+bdna/4_5/data\n",
      "mkdir /home/ytcdata/bigtraj_fluctmatch/split_5/tat_21mer/bdna+bdna/4_5/data/backup\n"
     ]
    }
   ],
   "source": [
    "b_agent.initialize_all_small_folders()"
   ]
  },
  {
   "cell_type": "markdown",
   "metadata": {},
   "source": [
    "### Part 3: Copy bdna+bdna.nohydrogen.crd to each small folder"
   ]
  },
  {
   "cell_type": "code",
   "execution_count": 5,
   "metadata": {},
   "outputs": [
    {
     "name": "stdout",
     "output_type": "stream",
     "text": [
      "cp /home/yizaochen/codes/dna_rna/all_systems/tat_21mer/bdna+bdna/input/heavyatoms/bdna+bdna.nohydrogen.crd /home/ytcdata/bigtraj_fluctmatch/split_5/tat_21mer/bdna+bdna/0_1/input/bdna+bdna.nohydrogen.crd\n",
      "cp /home/yizaochen/codes/dna_rna/all_systems/tat_21mer/bdna+bdna/input/heavyatoms/bdna+bdna.nohydrogen.crd /home/ytcdata/bigtraj_fluctmatch/split_5/tat_21mer/bdna+bdna/1_2/input/bdna+bdna.nohydrogen.crd\n",
      "cp /home/yizaochen/codes/dna_rna/all_systems/tat_21mer/bdna+bdna/input/heavyatoms/bdna+bdna.nohydrogen.crd /home/ytcdata/bigtraj_fluctmatch/split_5/tat_21mer/bdna+bdna/2_3/input/bdna+bdna.nohydrogen.crd\n",
      "cp /home/yizaochen/codes/dna_rna/all_systems/tat_21mer/bdna+bdna/input/heavyatoms/bdna+bdna.nohydrogen.crd /home/ytcdata/bigtraj_fluctmatch/split_5/tat_21mer/bdna+bdna/3_4/input/bdna+bdna.nohydrogen.crd\n",
      "cp /home/yizaochen/codes/dna_rna/all_systems/tat_21mer/bdna+bdna/input/heavyatoms/bdna+bdna.nohydrogen.crd /home/ytcdata/bigtraj_fluctmatch/split_5/tat_21mer/bdna+bdna/4_5/input/bdna+bdna.nohydrogen.crd\n"
     ]
    }
   ],
   "source": [
    "b_agent.copy_refcrd_to_smallfolders()"
   ]
  },
  {
   "cell_type": "markdown",
   "metadata": {},
   "source": [
    "### Part 4: Prepare dcd without hydrogens"
   ]
  },
  {
   "cell_type": "code",
   "execution_count": 6,
   "metadata": {
    "collapsed": true,
    "jupyter": {
     "outputs_hidden": true
    }
   },
   "outputs": [
    {
     "name": "stdout",
     "output_type": "stream",
     "text": [
      "/usr/bin/gmx trjcat -f /home/ytcdata/simulation/tat_21mer/bdna+bdna/data/roughtrj/1000/bdna+bdna.nopbc.fit.1.1000.xtc /home/ytcdata/simulation/tat_21mer/bdna+bdna/data/roughtrj/1000/bdna+bdna.nopbc.fit.2.1000.xtc /home/ytcdata/simulation/tat_21mer/bdna+bdna/data/roughtrj/1000/bdna+bdna.nopbc.fit.3.1000.xtc /home/ytcdata/simulation/tat_21mer/bdna+bdna/data/roughtrj/1000/bdna+bdna.nopbc.fit.4.1000.xtc /home/ytcdata/simulation/tat_21mer/bdna+bdna/data/roughtrj/1000/bdna+bdna.nopbc.fit.5.1000.xtc /home/ytcdata/simulation/tat_21mer/bdna+bdna/data/roughtrj/1000/bdna+bdna.nopbc.fit.6.1000.xtc /home/ytcdata/simulation/tat_21mer/bdna+bdna/data/roughtrj/1000/bdna+bdna.nopbc.fit.7.1000.xtc /home/ytcdata/simulation/tat_21mer/bdna+bdna/data/roughtrj/1000/bdna+bdna.nopbc.fit.8.1000.xtc /home/ytcdata/simulation/tat_21mer/bdna+bdna/data/roughtrj/1000/bdna+bdna.nopbc.fit.9.1000.xtc /home/ytcdata/simulation/tat_21mer/bdna+bdna/data/roughtrj/1000/bdna+bdna.nopbc.fit.10.1000.xtc /home/ytcdata/simulation/tat_21mer/bdna+bdna/data/roughtrj/1000/bdna+bdna.nopbc.fit.11.1000.xtc /home/ytcdata/simulation/tat_21mer/bdna+bdna/data/roughtrj/1000/bdna+bdna.nopbc.fit.12.1000.xtc /home/ytcdata/simulation/tat_21mer/bdna+bdna/data/roughtrj/1000/bdna+bdna.nopbc.fit.13.1000.xtc /home/ytcdata/simulation/tat_21mer/bdna+bdna/data/roughtrj/1000/bdna+bdna.nopbc.fit.14.1000.xtc /home/ytcdata/simulation/tat_21mer/bdna+bdna/data/roughtrj/1000/bdna+bdna.nopbc.fit.15.1000.xtc /home/ytcdata/simulation/tat_21mer/bdna+bdna/data/roughtrj/1000/bdna+bdna.nopbc.fit.16.1000.xtc /home/ytcdata/simulation/tat_21mer/bdna+bdna/data/roughtrj/1000/bdna+bdna.nopbc.fit.17.1000.xtc /home/ytcdata/simulation/tat_21mer/bdna+bdna/data/roughtrj/1000/bdna+bdna.nopbc.fit.18.1000.xtc /home/ytcdata/simulation/tat_21mer/bdna+bdna/data/roughtrj/1000/bdna+bdna.nopbc.fit.19.1000.xtc /home/ytcdata/simulation/tat_21mer/bdna+bdna/data/roughtrj/1000/bdna+bdna.nopbc.fit.20.1000.xtc /home/ytcdata/simulation/tat_21mer/bdna+bdna/data/roughtrj/1000/bdna+bdna.nopbc.fit.21.1000.xtc /home/ytcdata/simulation/tat_21mer/bdna+bdna/data/roughtrj/1000/bdna+bdna.nopbc.fit.22.1000.xtc /home/ytcdata/simulation/tat_21mer/bdna+bdna/data/roughtrj/1000/bdna+bdna.nopbc.fit.23.1000.xtc /home/ytcdata/simulation/tat_21mer/bdna+bdna/data/roughtrj/1000/bdna+bdna.nopbc.fit.24.1000.xtc /home/ytcdata/simulation/tat_21mer/bdna+bdna/data/roughtrj/1000/bdna+bdna.nopbc.fit.25.1000.xtc /home/ytcdata/simulation/tat_21mer/bdna+bdna/data/roughtrj/1000/bdna+bdna.nopbc.fit.26.1000.xtc /home/ytcdata/simulation/tat_21mer/bdna+bdna/data/roughtrj/1000/bdna+bdna.nopbc.fit.27.1000.xtc /home/ytcdata/simulation/tat_21mer/bdna+bdna/data/roughtrj/1000/bdna+bdna.nopbc.fit.28.1000.xtc /home/ytcdata/simulation/tat_21mer/bdna+bdna/data/roughtrj/1000/bdna+bdna.nopbc.fit.29.1000.xtc /home/ytcdata/simulation/tat_21mer/bdna+bdna/data/roughtrj/1000/bdna+bdna.nopbc.fit.30.1000.xtc /home/ytcdata/simulation/tat_21mer/bdna+bdna/data/roughtrj/1000/bdna+bdna.nopbc.fit.31.1000.xtc /home/ytcdata/simulation/tat_21mer/bdna+bdna/data/roughtrj/1000/bdna+bdna.nopbc.fit.32.1000.xtc /home/ytcdata/simulation/tat_21mer/bdna+bdna/data/roughtrj/1000/bdna+bdna.nopbc.fit.33.1000.xtc /home/ytcdata/simulation/tat_21mer/bdna+bdna/data/roughtrj/1000/bdna+bdna.nopbc.fit.34.1000.xtc /home/ytcdata/simulation/tat_21mer/bdna+bdna/data/roughtrj/1000/bdna+bdna.nopbc.fit.35.1000.xtc /home/ytcdata/simulation/tat_21mer/bdna+bdna/data/roughtrj/1000/bdna+bdna.nopbc.fit.36.1000.xtc /home/ytcdata/simulation/tat_21mer/bdna+bdna/data/roughtrj/1000/bdna+bdna.nopbc.fit.37.1000.xtc /home/ytcdata/simulation/tat_21mer/bdna+bdna/data/roughtrj/1000/bdna+bdna.nopbc.fit.38.1000.xtc /home/ytcdata/simulation/tat_21mer/bdna+bdna/data/roughtrj/1000/bdna+bdna.nopbc.fit.39.1000.xtc /home/ytcdata/simulation/tat_21mer/bdna+bdna/data/roughtrj/1000/bdna+bdna.nopbc.fit.40.1000.xtc /home/ytcdata/simulation/tat_21mer/bdna+bdna/data/roughtrj/1000/bdna+bdna.nopbc.fit.41.1000.xtc /home/ytcdata/simulation/tat_21mer/bdna+bdna/data/roughtrj/1000/bdna+bdna.nopbc.fit.42.1000.xtc /home/ytcdata/simulation/tat_21mer/bdna+bdna/data/roughtrj/1000/bdna+bdna.nopbc.fit.43.1000.xtc /home/ytcdata/simulation/tat_21mer/bdna+bdna/data/roughtrj/1000/bdna+bdna.nopbc.fit.44.1000.xtc /home/ytcdata/simulation/tat_21mer/bdna+bdna/data/roughtrj/1000/bdna+bdna.nopbc.fit.45.1000.xtc /home/ytcdata/simulation/tat_21mer/bdna+bdna/data/roughtrj/1000/bdna+bdna.nopbc.fit.46.1000.xtc /home/ytcdata/simulation/tat_21mer/bdna+bdna/data/roughtrj/1000/bdna+bdna.nopbc.fit.47.1000.xtc /home/ytcdata/simulation/tat_21mer/bdna+bdna/data/roughtrj/1000/bdna+bdna.nopbc.fit.48.1000.xtc /home/ytcdata/simulation/tat_21mer/bdna+bdna/data/roughtrj/1000/bdna+bdna.nopbc.fit.49.1000.xtc /home/ytcdata/simulation/tat_21mer/bdna+bdna/data/roughtrj/1000/bdna+bdna.nopbc.fit.50.1000.xtc  -o /home/ytcdata/bigtraj_fluctmatch/split_5/tat_21mer/bdna+bdna/0_1/input/0_1.xtc -dt 100 -b 100\n",
      "/usr/bin/gmx trjcat -f /home/ytcdata/simulation/tat_21mer/bdna+bdna/data/roughtrj/1000/bdna+bdna.nopbc.fit.1.1000.xtc /home/ytcdata/simulation/tat_21mer/bdna+bdna/data/roughtrj/1000/bdna+bdna.nopbc.fit.2.1000.xtc /home/ytcdata/simulation/tat_21mer/bdna+bdna/data/roughtrj/1000/bdna+bdna.nopbc.fit.3.1000.xtc /home/ytcdata/simulation/tat_21mer/bdna+bdna/data/roughtrj/1000/bdna+bdna.nopbc.fit.4.1000.xtc /home/ytcdata/simulation/tat_21mer/bdna+bdna/data/roughtrj/1000/bdna+bdna.nopbc.fit.5.1000.xtc /home/ytcdata/simulation/tat_21mer/bdna+bdna/data/roughtrj/1000/bdna+bdna.nopbc.fit.6.1000.xtc /home/ytcdata/simulation/tat_21mer/bdna+bdna/data/roughtrj/1000/bdna+bdna.nopbc.fit.7.1000.xtc /home/ytcdata/simulation/tat_21mer/bdna+bdna/data/roughtrj/1000/bdna+bdna.nopbc.fit.8.1000.xtc /home/ytcdata/simulation/tat_21mer/bdna+bdna/data/roughtrj/1000/bdna+bdna.nopbc.fit.9.1000.xtc /home/ytcdata/simulation/tat_21mer/bdna+bdna/data/roughtrj/1000/bdna+bdna.nopbc.fit.10.1000.xtc /home/ytcdata/simulation/tat_21mer/bdna+bdna/data/roughtrj/1000/bdna+bdna.nopbc.fit.11.1000.xtc /home/ytcdata/simulation/tat_21mer/bdna+bdna/data/roughtrj/1000/bdna+bdna.nopbc.fit.12.1000.xtc /home/ytcdata/simulation/tat_21mer/bdna+bdna/data/roughtrj/1000/bdna+bdna.nopbc.fit.13.1000.xtc /home/ytcdata/simulation/tat_21mer/bdna+bdna/data/roughtrj/1000/bdna+bdna.nopbc.fit.14.1000.xtc /home/ytcdata/simulation/tat_21mer/bdna+bdna/data/roughtrj/1000/bdna+bdna.nopbc.fit.15.1000.xtc /home/ytcdata/simulation/tat_21mer/bdna+bdna/data/roughtrj/1000/bdna+bdna.nopbc.fit.16.1000.xtc /home/ytcdata/simulation/tat_21mer/bdna+bdna/data/roughtrj/1000/bdna+bdna.nopbc.fit.17.1000.xtc /home/ytcdata/simulation/tat_21mer/bdna+bdna/data/roughtrj/1000/bdna+bdna.nopbc.fit.18.1000.xtc /home/ytcdata/simulation/tat_21mer/bdna+bdna/data/roughtrj/1000/bdna+bdna.nopbc.fit.19.1000.xtc /home/ytcdata/simulation/tat_21mer/bdna+bdna/data/roughtrj/1000/bdna+bdna.nopbc.fit.20.1000.xtc /home/ytcdata/simulation/tat_21mer/bdna+bdna/data/roughtrj/1000/bdna+bdna.nopbc.fit.21.1000.xtc /home/ytcdata/simulation/tat_21mer/bdna+bdna/data/roughtrj/1000/bdna+bdna.nopbc.fit.22.1000.xtc /home/ytcdata/simulation/tat_21mer/bdna+bdna/data/roughtrj/1000/bdna+bdna.nopbc.fit.23.1000.xtc /home/ytcdata/simulation/tat_21mer/bdna+bdna/data/roughtrj/1000/bdna+bdna.nopbc.fit.24.1000.xtc /home/ytcdata/simulation/tat_21mer/bdna+bdna/data/roughtrj/1000/bdna+bdna.nopbc.fit.25.1000.xtc /home/ytcdata/simulation/tat_21mer/bdna+bdna/data/roughtrj/1000/bdna+bdna.nopbc.fit.26.1000.xtc /home/ytcdata/simulation/tat_21mer/bdna+bdna/data/roughtrj/1000/bdna+bdna.nopbc.fit.27.1000.xtc /home/ytcdata/simulation/tat_21mer/bdna+bdna/data/roughtrj/1000/bdna+bdna.nopbc.fit.28.1000.xtc /home/ytcdata/simulation/tat_21mer/bdna+bdna/data/roughtrj/1000/bdna+bdna.nopbc.fit.29.1000.xtc /home/ytcdata/simulation/tat_21mer/bdna+bdna/data/roughtrj/1000/bdna+bdna.nopbc.fit.30.1000.xtc /home/ytcdata/simulation/tat_21mer/bdna+bdna/data/roughtrj/1000/bdna+bdna.nopbc.fit.31.1000.xtc /home/ytcdata/simulation/tat_21mer/bdna+bdna/data/roughtrj/1000/bdna+bdna.nopbc.fit.32.1000.xtc /home/ytcdata/simulation/tat_21mer/bdna+bdna/data/roughtrj/1000/bdna+bdna.nopbc.fit.33.1000.xtc /home/ytcdata/simulation/tat_21mer/bdna+bdna/data/roughtrj/1000/bdna+bdna.nopbc.fit.34.1000.xtc /home/ytcdata/simulation/tat_21mer/bdna+bdna/data/roughtrj/1000/bdna+bdna.nopbc.fit.35.1000.xtc /home/ytcdata/simulation/tat_21mer/bdna+bdna/data/roughtrj/1000/bdna+bdna.nopbc.fit.36.1000.xtc /home/ytcdata/simulation/tat_21mer/bdna+bdna/data/roughtrj/1000/bdna+bdna.nopbc.fit.37.1000.xtc /home/ytcdata/simulation/tat_21mer/bdna+bdna/data/roughtrj/1000/bdna+bdna.nopbc.fit.38.1000.xtc /home/ytcdata/simulation/tat_21mer/bdna+bdna/data/roughtrj/1000/bdna+bdna.nopbc.fit.39.1000.xtc /home/ytcdata/simulation/tat_21mer/bdna+bdna/data/roughtrj/1000/bdna+bdna.nopbc.fit.40.1000.xtc /home/ytcdata/simulation/tat_21mer/bdna+bdna/data/roughtrj/1000/bdna+bdna.nopbc.fit.41.1000.xtc /home/ytcdata/simulation/tat_21mer/bdna+bdna/data/roughtrj/1000/bdna+bdna.nopbc.fit.42.1000.xtc /home/ytcdata/simulation/tat_21mer/bdna+bdna/data/roughtrj/1000/bdna+bdna.nopbc.fit.43.1000.xtc /home/ytcdata/simulation/tat_21mer/bdna+bdna/data/roughtrj/1000/bdna+bdna.nopbc.fit.44.1000.xtc /home/ytcdata/simulation/tat_21mer/bdna+bdna/data/roughtrj/1000/bdna+bdna.nopbc.fit.45.1000.xtc /home/ytcdata/simulation/tat_21mer/bdna+bdna/data/roughtrj/1000/bdna+bdna.nopbc.fit.46.1000.xtc /home/ytcdata/simulation/tat_21mer/bdna+bdna/data/roughtrj/1000/bdna+bdna.nopbc.fit.47.1000.xtc /home/ytcdata/simulation/tat_21mer/bdna+bdna/data/roughtrj/1000/bdna+bdna.nopbc.fit.48.1000.xtc /home/ytcdata/simulation/tat_21mer/bdna+bdna/data/roughtrj/1000/bdna+bdna.nopbc.fit.49.1000.xtc /home/ytcdata/simulation/tat_21mer/bdna+bdna/data/roughtrj/1000/bdna+bdna.nopbc.fit.50.1000.xtc  -o /home/ytcdata/bigtraj_fluctmatch/split_5/tat_21mer/bdna+bdna/1_2/input/1_2.xtc -dt 100 -b 200\n",
      "/usr/bin/gmx trjcat -f /home/ytcdata/simulation/tat_21mer/bdna+bdna/data/roughtrj/1000/bdna+bdna.nopbc.fit.1.1000.xtc /home/ytcdata/simulation/tat_21mer/bdna+bdna/data/roughtrj/1000/bdna+bdna.nopbc.fit.2.1000.xtc /home/ytcdata/simulation/tat_21mer/bdna+bdna/data/roughtrj/1000/bdna+bdna.nopbc.fit.3.1000.xtc /home/ytcdata/simulation/tat_21mer/bdna+bdna/data/roughtrj/1000/bdna+bdna.nopbc.fit.4.1000.xtc /home/ytcdata/simulation/tat_21mer/bdna+bdna/data/roughtrj/1000/bdna+bdna.nopbc.fit.5.1000.xtc /home/ytcdata/simulation/tat_21mer/bdna+bdna/data/roughtrj/1000/bdna+bdna.nopbc.fit.6.1000.xtc /home/ytcdata/simulation/tat_21mer/bdna+bdna/data/roughtrj/1000/bdna+bdna.nopbc.fit.7.1000.xtc /home/ytcdata/simulation/tat_21mer/bdna+bdna/data/roughtrj/1000/bdna+bdna.nopbc.fit.8.1000.xtc /home/ytcdata/simulation/tat_21mer/bdna+bdna/data/roughtrj/1000/bdna+bdna.nopbc.fit.9.1000.xtc /home/ytcdata/simulation/tat_21mer/bdna+bdna/data/roughtrj/1000/bdna+bdna.nopbc.fit.10.1000.xtc /home/ytcdata/simulation/tat_21mer/bdna+bdna/data/roughtrj/1000/bdna+bdna.nopbc.fit.11.1000.xtc /home/ytcdata/simulation/tat_21mer/bdna+bdna/data/roughtrj/1000/bdna+bdna.nopbc.fit.12.1000.xtc /home/ytcdata/simulation/tat_21mer/bdna+bdna/data/roughtrj/1000/bdna+bdna.nopbc.fit.13.1000.xtc /home/ytcdata/simulation/tat_21mer/bdna+bdna/data/roughtrj/1000/bdna+bdna.nopbc.fit.14.1000.xtc /home/ytcdata/simulation/tat_21mer/bdna+bdna/data/roughtrj/1000/bdna+bdna.nopbc.fit.15.1000.xtc /home/ytcdata/simulation/tat_21mer/bdna+bdna/data/roughtrj/1000/bdna+bdna.nopbc.fit.16.1000.xtc /home/ytcdata/simulation/tat_21mer/bdna+bdna/data/roughtrj/1000/bdna+bdna.nopbc.fit.17.1000.xtc /home/ytcdata/simulation/tat_21mer/bdna+bdna/data/roughtrj/1000/bdna+bdna.nopbc.fit.18.1000.xtc /home/ytcdata/simulation/tat_21mer/bdna+bdna/data/roughtrj/1000/bdna+bdna.nopbc.fit.19.1000.xtc /home/ytcdata/simulation/tat_21mer/bdna+bdna/data/roughtrj/1000/bdna+bdna.nopbc.fit.20.1000.xtc /home/ytcdata/simulation/tat_21mer/bdna+bdna/data/roughtrj/1000/bdna+bdna.nopbc.fit.21.1000.xtc /home/ytcdata/simulation/tat_21mer/bdna+bdna/data/roughtrj/1000/bdna+bdna.nopbc.fit.22.1000.xtc /home/ytcdata/simulation/tat_21mer/bdna+bdna/data/roughtrj/1000/bdna+bdna.nopbc.fit.23.1000.xtc /home/ytcdata/simulation/tat_21mer/bdna+bdna/data/roughtrj/1000/bdna+bdna.nopbc.fit.24.1000.xtc /home/ytcdata/simulation/tat_21mer/bdna+bdna/data/roughtrj/1000/bdna+bdna.nopbc.fit.25.1000.xtc /home/ytcdata/simulation/tat_21mer/bdna+bdna/data/roughtrj/1000/bdna+bdna.nopbc.fit.26.1000.xtc /home/ytcdata/simulation/tat_21mer/bdna+bdna/data/roughtrj/1000/bdna+bdna.nopbc.fit.27.1000.xtc /home/ytcdata/simulation/tat_21mer/bdna+bdna/data/roughtrj/1000/bdna+bdna.nopbc.fit.28.1000.xtc /home/ytcdata/simulation/tat_21mer/bdna+bdna/data/roughtrj/1000/bdna+bdna.nopbc.fit.29.1000.xtc /home/ytcdata/simulation/tat_21mer/bdna+bdna/data/roughtrj/1000/bdna+bdna.nopbc.fit.30.1000.xtc /home/ytcdata/simulation/tat_21mer/bdna+bdna/data/roughtrj/1000/bdna+bdna.nopbc.fit.31.1000.xtc /home/ytcdata/simulation/tat_21mer/bdna+bdna/data/roughtrj/1000/bdna+bdna.nopbc.fit.32.1000.xtc /home/ytcdata/simulation/tat_21mer/bdna+bdna/data/roughtrj/1000/bdna+bdna.nopbc.fit.33.1000.xtc /home/ytcdata/simulation/tat_21mer/bdna+bdna/data/roughtrj/1000/bdna+bdna.nopbc.fit.34.1000.xtc /home/ytcdata/simulation/tat_21mer/bdna+bdna/data/roughtrj/1000/bdna+bdna.nopbc.fit.35.1000.xtc /home/ytcdata/simulation/tat_21mer/bdna+bdna/data/roughtrj/1000/bdna+bdna.nopbc.fit.36.1000.xtc /home/ytcdata/simulation/tat_21mer/bdna+bdna/data/roughtrj/1000/bdna+bdna.nopbc.fit.37.1000.xtc /home/ytcdata/simulation/tat_21mer/bdna+bdna/data/roughtrj/1000/bdna+bdna.nopbc.fit.38.1000.xtc /home/ytcdata/simulation/tat_21mer/bdna+bdna/data/roughtrj/1000/bdna+bdna.nopbc.fit.39.1000.xtc /home/ytcdata/simulation/tat_21mer/bdna+bdna/data/roughtrj/1000/bdna+bdna.nopbc.fit.40.1000.xtc /home/ytcdata/simulation/tat_21mer/bdna+bdna/data/roughtrj/1000/bdna+bdna.nopbc.fit.41.1000.xtc /home/ytcdata/simulation/tat_21mer/bdna+bdna/data/roughtrj/1000/bdna+bdna.nopbc.fit.42.1000.xtc /home/ytcdata/simulation/tat_21mer/bdna+bdna/data/roughtrj/1000/bdna+bdna.nopbc.fit.43.1000.xtc /home/ytcdata/simulation/tat_21mer/bdna+bdna/data/roughtrj/1000/bdna+bdna.nopbc.fit.44.1000.xtc /home/ytcdata/simulation/tat_21mer/bdna+bdna/data/roughtrj/1000/bdna+bdna.nopbc.fit.45.1000.xtc /home/ytcdata/simulation/tat_21mer/bdna+bdna/data/roughtrj/1000/bdna+bdna.nopbc.fit.46.1000.xtc /home/ytcdata/simulation/tat_21mer/bdna+bdna/data/roughtrj/1000/bdna+bdna.nopbc.fit.47.1000.xtc /home/ytcdata/simulation/tat_21mer/bdna+bdna/data/roughtrj/1000/bdna+bdna.nopbc.fit.48.1000.xtc /home/ytcdata/simulation/tat_21mer/bdna+bdna/data/roughtrj/1000/bdna+bdna.nopbc.fit.49.1000.xtc /home/ytcdata/simulation/tat_21mer/bdna+bdna/data/roughtrj/1000/bdna+bdna.nopbc.fit.50.1000.xtc  -o /home/ytcdata/bigtraj_fluctmatch/split_5/tat_21mer/bdna+bdna/2_3/input/2_3.xtc -dt 100 -b 300\n",
      "/usr/bin/gmx trjcat -f /home/ytcdata/simulation/tat_21mer/bdna+bdna/data/roughtrj/1000/bdna+bdna.nopbc.fit.1.1000.xtc /home/ytcdata/simulation/tat_21mer/bdna+bdna/data/roughtrj/1000/bdna+bdna.nopbc.fit.2.1000.xtc /home/ytcdata/simulation/tat_21mer/bdna+bdna/data/roughtrj/1000/bdna+bdna.nopbc.fit.3.1000.xtc /home/ytcdata/simulation/tat_21mer/bdna+bdna/data/roughtrj/1000/bdna+bdna.nopbc.fit.4.1000.xtc /home/ytcdata/simulation/tat_21mer/bdna+bdna/data/roughtrj/1000/bdna+bdna.nopbc.fit.5.1000.xtc /home/ytcdata/simulation/tat_21mer/bdna+bdna/data/roughtrj/1000/bdna+bdna.nopbc.fit.6.1000.xtc /home/ytcdata/simulation/tat_21mer/bdna+bdna/data/roughtrj/1000/bdna+bdna.nopbc.fit.7.1000.xtc /home/ytcdata/simulation/tat_21mer/bdna+bdna/data/roughtrj/1000/bdna+bdna.nopbc.fit.8.1000.xtc /home/ytcdata/simulation/tat_21mer/bdna+bdna/data/roughtrj/1000/bdna+bdna.nopbc.fit.9.1000.xtc /home/ytcdata/simulation/tat_21mer/bdna+bdna/data/roughtrj/1000/bdna+bdna.nopbc.fit.10.1000.xtc /home/ytcdata/simulation/tat_21mer/bdna+bdna/data/roughtrj/1000/bdna+bdna.nopbc.fit.11.1000.xtc /home/ytcdata/simulation/tat_21mer/bdna+bdna/data/roughtrj/1000/bdna+bdna.nopbc.fit.12.1000.xtc /home/ytcdata/simulation/tat_21mer/bdna+bdna/data/roughtrj/1000/bdna+bdna.nopbc.fit.13.1000.xtc /home/ytcdata/simulation/tat_21mer/bdna+bdna/data/roughtrj/1000/bdna+bdna.nopbc.fit.14.1000.xtc /home/ytcdata/simulation/tat_21mer/bdna+bdna/data/roughtrj/1000/bdna+bdna.nopbc.fit.15.1000.xtc /home/ytcdata/simulation/tat_21mer/bdna+bdna/data/roughtrj/1000/bdna+bdna.nopbc.fit.16.1000.xtc /home/ytcdata/simulation/tat_21mer/bdna+bdna/data/roughtrj/1000/bdna+bdna.nopbc.fit.17.1000.xtc /home/ytcdata/simulation/tat_21mer/bdna+bdna/data/roughtrj/1000/bdna+bdna.nopbc.fit.18.1000.xtc /home/ytcdata/simulation/tat_21mer/bdna+bdna/data/roughtrj/1000/bdna+bdna.nopbc.fit.19.1000.xtc /home/ytcdata/simulation/tat_21mer/bdna+bdna/data/roughtrj/1000/bdna+bdna.nopbc.fit.20.1000.xtc /home/ytcdata/simulation/tat_21mer/bdna+bdna/data/roughtrj/1000/bdna+bdna.nopbc.fit.21.1000.xtc /home/ytcdata/simulation/tat_21mer/bdna+bdna/data/roughtrj/1000/bdna+bdna.nopbc.fit.22.1000.xtc /home/ytcdata/simulation/tat_21mer/bdna+bdna/data/roughtrj/1000/bdna+bdna.nopbc.fit.23.1000.xtc /home/ytcdata/simulation/tat_21mer/bdna+bdna/data/roughtrj/1000/bdna+bdna.nopbc.fit.24.1000.xtc /home/ytcdata/simulation/tat_21mer/bdna+bdna/data/roughtrj/1000/bdna+bdna.nopbc.fit.25.1000.xtc /home/ytcdata/simulation/tat_21mer/bdna+bdna/data/roughtrj/1000/bdna+bdna.nopbc.fit.26.1000.xtc /home/ytcdata/simulation/tat_21mer/bdna+bdna/data/roughtrj/1000/bdna+bdna.nopbc.fit.27.1000.xtc /home/ytcdata/simulation/tat_21mer/bdna+bdna/data/roughtrj/1000/bdna+bdna.nopbc.fit.28.1000.xtc /home/ytcdata/simulation/tat_21mer/bdna+bdna/data/roughtrj/1000/bdna+bdna.nopbc.fit.29.1000.xtc /home/ytcdata/simulation/tat_21mer/bdna+bdna/data/roughtrj/1000/bdna+bdna.nopbc.fit.30.1000.xtc /home/ytcdata/simulation/tat_21mer/bdna+bdna/data/roughtrj/1000/bdna+bdna.nopbc.fit.31.1000.xtc /home/ytcdata/simulation/tat_21mer/bdna+bdna/data/roughtrj/1000/bdna+bdna.nopbc.fit.32.1000.xtc /home/ytcdata/simulation/tat_21mer/bdna+bdna/data/roughtrj/1000/bdna+bdna.nopbc.fit.33.1000.xtc /home/ytcdata/simulation/tat_21mer/bdna+bdna/data/roughtrj/1000/bdna+bdna.nopbc.fit.34.1000.xtc /home/ytcdata/simulation/tat_21mer/bdna+bdna/data/roughtrj/1000/bdna+bdna.nopbc.fit.35.1000.xtc /home/ytcdata/simulation/tat_21mer/bdna+bdna/data/roughtrj/1000/bdna+bdna.nopbc.fit.36.1000.xtc /home/ytcdata/simulation/tat_21mer/bdna+bdna/data/roughtrj/1000/bdna+bdna.nopbc.fit.37.1000.xtc /home/ytcdata/simulation/tat_21mer/bdna+bdna/data/roughtrj/1000/bdna+bdna.nopbc.fit.38.1000.xtc /home/ytcdata/simulation/tat_21mer/bdna+bdna/data/roughtrj/1000/bdna+bdna.nopbc.fit.39.1000.xtc /home/ytcdata/simulation/tat_21mer/bdna+bdna/data/roughtrj/1000/bdna+bdna.nopbc.fit.40.1000.xtc /home/ytcdata/simulation/tat_21mer/bdna+bdna/data/roughtrj/1000/bdna+bdna.nopbc.fit.41.1000.xtc /home/ytcdata/simulation/tat_21mer/bdna+bdna/data/roughtrj/1000/bdna+bdna.nopbc.fit.42.1000.xtc /home/ytcdata/simulation/tat_21mer/bdna+bdna/data/roughtrj/1000/bdna+bdna.nopbc.fit.43.1000.xtc /home/ytcdata/simulation/tat_21mer/bdna+bdna/data/roughtrj/1000/bdna+bdna.nopbc.fit.44.1000.xtc /home/ytcdata/simulation/tat_21mer/bdna+bdna/data/roughtrj/1000/bdna+bdna.nopbc.fit.45.1000.xtc /home/ytcdata/simulation/tat_21mer/bdna+bdna/data/roughtrj/1000/bdna+bdna.nopbc.fit.46.1000.xtc /home/ytcdata/simulation/tat_21mer/bdna+bdna/data/roughtrj/1000/bdna+bdna.nopbc.fit.47.1000.xtc /home/ytcdata/simulation/tat_21mer/bdna+bdna/data/roughtrj/1000/bdna+bdna.nopbc.fit.48.1000.xtc /home/ytcdata/simulation/tat_21mer/bdna+bdna/data/roughtrj/1000/bdna+bdna.nopbc.fit.49.1000.xtc /home/ytcdata/simulation/tat_21mer/bdna+bdna/data/roughtrj/1000/bdna+bdna.nopbc.fit.50.1000.xtc  -o /home/ytcdata/bigtraj_fluctmatch/split_5/tat_21mer/bdna+bdna/3_4/input/3_4.xtc -dt 100 -b 400\n",
      "/usr/bin/gmx trjcat -f /home/ytcdata/simulation/tat_21mer/bdna+bdna/data/roughtrj/1000/bdna+bdna.nopbc.fit.1.1000.xtc /home/ytcdata/simulation/tat_21mer/bdna+bdna/data/roughtrj/1000/bdna+bdna.nopbc.fit.2.1000.xtc /home/ytcdata/simulation/tat_21mer/bdna+bdna/data/roughtrj/1000/bdna+bdna.nopbc.fit.3.1000.xtc /home/ytcdata/simulation/tat_21mer/bdna+bdna/data/roughtrj/1000/bdna+bdna.nopbc.fit.4.1000.xtc /home/ytcdata/simulation/tat_21mer/bdna+bdna/data/roughtrj/1000/bdna+bdna.nopbc.fit.5.1000.xtc /home/ytcdata/simulation/tat_21mer/bdna+bdna/data/roughtrj/1000/bdna+bdna.nopbc.fit.6.1000.xtc /home/ytcdata/simulation/tat_21mer/bdna+bdna/data/roughtrj/1000/bdna+bdna.nopbc.fit.7.1000.xtc /home/ytcdata/simulation/tat_21mer/bdna+bdna/data/roughtrj/1000/bdna+bdna.nopbc.fit.8.1000.xtc /home/ytcdata/simulation/tat_21mer/bdna+bdna/data/roughtrj/1000/bdna+bdna.nopbc.fit.9.1000.xtc /home/ytcdata/simulation/tat_21mer/bdna+bdna/data/roughtrj/1000/bdna+bdna.nopbc.fit.10.1000.xtc /home/ytcdata/simulation/tat_21mer/bdna+bdna/data/roughtrj/1000/bdna+bdna.nopbc.fit.11.1000.xtc /home/ytcdata/simulation/tat_21mer/bdna+bdna/data/roughtrj/1000/bdna+bdna.nopbc.fit.12.1000.xtc /home/ytcdata/simulation/tat_21mer/bdna+bdna/data/roughtrj/1000/bdna+bdna.nopbc.fit.13.1000.xtc /home/ytcdata/simulation/tat_21mer/bdna+bdna/data/roughtrj/1000/bdna+bdna.nopbc.fit.14.1000.xtc /home/ytcdata/simulation/tat_21mer/bdna+bdna/data/roughtrj/1000/bdna+bdna.nopbc.fit.15.1000.xtc /home/ytcdata/simulation/tat_21mer/bdna+bdna/data/roughtrj/1000/bdna+bdna.nopbc.fit.16.1000.xtc /home/ytcdata/simulation/tat_21mer/bdna+bdna/data/roughtrj/1000/bdna+bdna.nopbc.fit.17.1000.xtc /home/ytcdata/simulation/tat_21mer/bdna+bdna/data/roughtrj/1000/bdna+bdna.nopbc.fit.18.1000.xtc /home/ytcdata/simulation/tat_21mer/bdna+bdna/data/roughtrj/1000/bdna+bdna.nopbc.fit.19.1000.xtc /home/ytcdata/simulation/tat_21mer/bdna+bdna/data/roughtrj/1000/bdna+bdna.nopbc.fit.20.1000.xtc /home/ytcdata/simulation/tat_21mer/bdna+bdna/data/roughtrj/1000/bdna+bdna.nopbc.fit.21.1000.xtc /home/ytcdata/simulation/tat_21mer/bdna+bdna/data/roughtrj/1000/bdna+bdna.nopbc.fit.22.1000.xtc /home/ytcdata/simulation/tat_21mer/bdna+bdna/data/roughtrj/1000/bdna+bdna.nopbc.fit.23.1000.xtc /home/ytcdata/simulation/tat_21mer/bdna+bdna/data/roughtrj/1000/bdna+bdna.nopbc.fit.24.1000.xtc /home/ytcdata/simulation/tat_21mer/bdna+bdna/data/roughtrj/1000/bdna+bdna.nopbc.fit.25.1000.xtc /home/ytcdata/simulation/tat_21mer/bdna+bdna/data/roughtrj/1000/bdna+bdna.nopbc.fit.26.1000.xtc /home/ytcdata/simulation/tat_21mer/bdna+bdna/data/roughtrj/1000/bdna+bdna.nopbc.fit.27.1000.xtc /home/ytcdata/simulation/tat_21mer/bdna+bdna/data/roughtrj/1000/bdna+bdna.nopbc.fit.28.1000.xtc /home/ytcdata/simulation/tat_21mer/bdna+bdna/data/roughtrj/1000/bdna+bdna.nopbc.fit.29.1000.xtc /home/ytcdata/simulation/tat_21mer/bdna+bdna/data/roughtrj/1000/bdna+bdna.nopbc.fit.30.1000.xtc /home/ytcdata/simulation/tat_21mer/bdna+bdna/data/roughtrj/1000/bdna+bdna.nopbc.fit.31.1000.xtc /home/ytcdata/simulation/tat_21mer/bdna+bdna/data/roughtrj/1000/bdna+bdna.nopbc.fit.32.1000.xtc /home/ytcdata/simulation/tat_21mer/bdna+bdna/data/roughtrj/1000/bdna+bdna.nopbc.fit.33.1000.xtc /home/ytcdata/simulation/tat_21mer/bdna+bdna/data/roughtrj/1000/bdna+bdna.nopbc.fit.34.1000.xtc /home/ytcdata/simulation/tat_21mer/bdna+bdna/data/roughtrj/1000/bdna+bdna.nopbc.fit.35.1000.xtc /home/ytcdata/simulation/tat_21mer/bdna+bdna/data/roughtrj/1000/bdna+bdna.nopbc.fit.36.1000.xtc /home/ytcdata/simulation/tat_21mer/bdna+bdna/data/roughtrj/1000/bdna+bdna.nopbc.fit.37.1000.xtc /home/ytcdata/simulation/tat_21mer/bdna+bdna/data/roughtrj/1000/bdna+bdna.nopbc.fit.38.1000.xtc /home/ytcdata/simulation/tat_21mer/bdna+bdna/data/roughtrj/1000/bdna+bdna.nopbc.fit.39.1000.xtc /home/ytcdata/simulation/tat_21mer/bdna+bdna/data/roughtrj/1000/bdna+bdna.nopbc.fit.40.1000.xtc /home/ytcdata/simulation/tat_21mer/bdna+bdna/data/roughtrj/1000/bdna+bdna.nopbc.fit.41.1000.xtc /home/ytcdata/simulation/tat_21mer/bdna+bdna/data/roughtrj/1000/bdna+bdna.nopbc.fit.42.1000.xtc /home/ytcdata/simulation/tat_21mer/bdna+bdna/data/roughtrj/1000/bdna+bdna.nopbc.fit.43.1000.xtc /home/ytcdata/simulation/tat_21mer/bdna+bdna/data/roughtrj/1000/bdna+bdna.nopbc.fit.44.1000.xtc /home/ytcdata/simulation/tat_21mer/bdna+bdna/data/roughtrj/1000/bdna+bdna.nopbc.fit.45.1000.xtc /home/ytcdata/simulation/tat_21mer/bdna+bdna/data/roughtrj/1000/bdna+bdna.nopbc.fit.46.1000.xtc /home/ytcdata/simulation/tat_21mer/bdna+bdna/data/roughtrj/1000/bdna+bdna.nopbc.fit.47.1000.xtc /home/ytcdata/simulation/tat_21mer/bdna+bdna/data/roughtrj/1000/bdna+bdna.nopbc.fit.48.1000.xtc /home/ytcdata/simulation/tat_21mer/bdna+bdna/data/roughtrj/1000/bdna+bdna.nopbc.fit.49.1000.xtc /home/ytcdata/simulation/tat_21mer/bdna+bdna/data/roughtrj/1000/bdna+bdna.nopbc.fit.50.1000.xtc  -o /home/ytcdata/bigtraj_fluctmatch/split_5/tat_21mer/bdna+bdna/4_5/input/4_5.xtc -dt 100 -b 500\n"
     ]
    }
   ],
   "source": [
    "# Concatenate xtc by gmx\n",
    "b_agent.concatenate_xtc_by_gmx_split_5()"
   ]
  },
  {
   "cell_type": "code",
   "execution_count": 7,
   "metadata": {},
   "outputs": [
    {
     "name": "stdout",
     "output_type": "stream",
     "text": [
      "write /home/ytcdata/bigtraj_fluctmatch/split_5/tat_21mer/bdna+bdna/0_1/input/xtc2dcd.vmd\n",
      "vmd -dispdev text -e /home/ytcdata/bigtraj_fluctmatch/split_5/tat_21mer/bdna+bdna/0_1/input/xtc2dcd.vmd\n",
      "write /home/ytcdata/bigtraj_fluctmatch/split_5/tat_21mer/bdna+bdna/1_2/input/xtc2dcd.vmd\n",
      "vmd -dispdev text -e /home/ytcdata/bigtraj_fluctmatch/split_5/tat_21mer/bdna+bdna/1_2/input/xtc2dcd.vmd\n",
      "write /home/ytcdata/bigtraj_fluctmatch/split_5/tat_21mer/bdna+bdna/2_3/input/xtc2dcd.vmd\n",
      "vmd -dispdev text -e /home/ytcdata/bigtraj_fluctmatch/split_5/tat_21mer/bdna+bdna/2_3/input/xtc2dcd.vmd\n",
      "write /home/ytcdata/bigtraj_fluctmatch/split_5/tat_21mer/bdna+bdna/3_4/input/xtc2dcd.vmd\n",
      "vmd -dispdev text -e /home/ytcdata/bigtraj_fluctmatch/split_5/tat_21mer/bdna+bdna/3_4/input/xtc2dcd.vmd\n",
      "write /home/ytcdata/bigtraj_fluctmatch/split_5/tat_21mer/bdna+bdna/4_5/input/xtc2dcd.vmd\n",
      "vmd -dispdev text -e /home/ytcdata/bigtraj_fluctmatch/split_5/tat_21mer/bdna+bdna/4_5/input/xtc2dcd.vmd\n"
     ]
    }
   ],
   "source": [
    "# Convert xtc to dcd by vmd\n",
    "b_agent.convert_xtc_to_dcd_by_vmd()"
   ]
  },
  {
   "cell_type": "code",
   "execution_count": 8,
   "metadata": {},
   "outputs": [
    {
     "name": "stdout",
     "output_type": "stream",
     "text": [
      "/home/ytcdata/bigtraj_fluctmatch/split_5/tat_21mer/bdna+bdna/0_1/input/0_1.dcd generate succesfully. Size is 161136388.\n",
      "/home/ytcdata/bigtraj_fluctmatch/split_5/tat_21mer/bdna+bdna/1_2/input/1_2.dcd generate succesfully. Size is 161136388.\n",
      "/home/ytcdata/bigtraj_fluctmatch/split_5/tat_21mer/bdna+bdna/2_3/input/2_3.dcd generate succesfully. Size is 161136388.\n",
      "/home/ytcdata/bigtraj_fluctmatch/split_5/tat_21mer/bdna+bdna/3_4/input/3_4.dcd generate succesfully. Size is 161136388.\n",
      "/home/ytcdata/bigtraj_fluctmatch/split_5/tat_21mer/bdna+bdna/4_5/input/4_5.dcd generate succesfully. Size is 161136388.\n"
     ]
    }
   ],
   "source": [
    "# Check generated dcd correct or not\n",
    "b_agent.check_vmd_dcd_status()"
   ]
  },
  {
   "cell_type": "code",
   "execution_count": 9,
   "metadata": {},
   "outputs": [
    {
     "name": "stdout",
     "output_type": "stream",
     "text": [
      "charmm< /home/ytcdata/bigtraj_fluctmatch/split_5/tat_21mer/bdna+bdna/0_1/charmm_inp/write_no_h_dcd.inp > /home/ytcdata/bigtraj_fluctmatch/split_5/tat_21mer/bdna+bdna/0_1/charmm_dat/write_no_h_dcd.dat\n",
      "charmm< /home/ytcdata/bigtraj_fluctmatch/split_5/tat_21mer/bdna+bdna/1_2/charmm_inp/write_no_h_dcd.inp > /home/ytcdata/bigtraj_fluctmatch/split_5/tat_21mer/bdna+bdna/1_2/charmm_dat/write_no_h_dcd.dat\n",
      "charmm< /home/ytcdata/bigtraj_fluctmatch/split_5/tat_21mer/bdna+bdna/2_3/charmm_inp/write_no_h_dcd.inp > /home/ytcdata/bigtraj_fluctmatch/split_5/tat_21mer/bdna+bdna/2_3/charmm_dat/write_no_h_dcd.dat\n",
      "charmm< /home/ytcdata/bigtraj_fluctmatch/split_5/tat_21mer/bdna+bdna/3_4/charmm_inp/write_no_h_dcd.inp > /home/ytcdata/bigtraj_fluctmatch/split_5/tat_21mer/bdna+bdna/3_4/charmm_dat/write_no_h_dcd.dat\n",
      "charmm< /home/ytcdata/bigtraj_fluctmatch/split_5/tat_21mer/bdna+bdna/4_5/charmm_inp/write_no_h_dcd.inp > /home/ytcdata/bigtraj_fluctmatch/split_5/tat_21mer/bdna+bdna/4_5/charmm_dat/write_no_h_dcd.dat\n"
     ]
    }
   ],
   "source": [
    "# remove hydrogen by charmm\n",
    "b_agent.remove_hydrogen_by_charmm()"
   ]
  },
  {
   "cell_type": "code",
   "execution_count": 10,
   "metadata": {},
   "outputs": [
    {
     "name": "stdout",
     "output_type": "stream",
     "text": [
      "/home/ytcdata/bigtraj_fluctmatch/split_5/tat_21mer/bdna+bdna/0_1/input/0_1.dcd generate succesfully. Size is 102840356.\n",
      "/home/ytcdata/bigtraj_fluctmatch/split_5/tat_21mer/bdna+bdna/1_2/input/1_2.dcd generate succesfully. Size is 102840356.\n",
      "/home/ytcdata/bigtraj_fluctmatch/split_5/tat_21mer/bdna+bdna/2_3/input/2_3.dcd generate succesfully. Size is 102840356.\n",
      "/home/ytcdata/bigtraj_fluctmatch/split_5/tat_21mer/bdna+bdna/3_4/input/3_4.dcd generate succesfully. Size is 102840356.\n",
      "/home/ytcdata/bigtraj_fluctmatch/split_5/tat_21mer/bdna+bdna/4_5/input/4_5.dcd generate succesfully. Size is 102840356.\n"
     ]
    }
   ],
   "source": [
    "# Check generated no hydrogen dcd correct or not\n",
    "b_agent.check_nohydrogen_dcd_status()"
   ]
  },
  {
   "cell_type": "code",
   "execution_count": 11,
   "metadata": {},
   "outputs": [
    {
     "name": "stdout",
     "output_type": "stream",
     "text": [
      "/home/ytcdata/bigtraj_fluctmatch/split_5/tat_21mer/bdna+bdna/0_1/input/0_1.xtc exists.\n",
      " rm /home/ytcdata/bigtraj_fluctmatch/split_5/tat_21mer/bdna+bdna/0_1/input/0_1.xtc\n",
      "/home/ytcdata/bigtraj_fluctmatch/split_5/tat_21mer/bdna+bdna/0_1/input/0_1.dcd exists.\n",
      " rm /home/ytcdata/bigtraj_fluctmatch/split_5/tat_21mer/bdna+bdna/0_1/input/0_1.dcd\n",
      "/home/ytcdata/bigtraj_fluctmatch/split_5/tat_21mer/bdna+bdna/1_2/input/1_2.xtc exists.\n",
      " rm /home/ytcdata/bigtraj_fluctmatch/split_5/tat_21mer/bdna+bdna/1_2/input/1_2.xtc\n",
      "/home/ytcdata/bigtraj_fluctmatch/split_5/tat_21mer/bdna+bdna/1_2/input/1_2.dcd exists.\n",
      " rm /home/ytcdata/bigtraj_fluctmatch/split_5/tat_21mer/bdna+bdna/1_2/input/1_2.dcd\n",
      "/home/ytcdata/bigtraj_fluctmatch/split_5/tat_21mer/bdna+bdna/2_3/input/2_3.xtc exists.\n",
      " rm /home/ytcdata/bigtraj_fluctmatch/split_5/tat_21mer/bdna+bdna/2_3/input/2_3.xtc\n",
      "/home/ytcdata/bigtraj_fluctmatch/split_5/tat_21mer/bdna+bdna/2_3/input/2_3.dcd exists.\n",
      " rm /home/ytcdata/bigtraj_fluctmatch/split_5/tat_21mer/bdna+bdna/2_3/input/2_3.dcd\n",
      "/home/ytcdata/bigtraj_fluctmatch/split_5/tat_21mer/bdna+bdna/3_4/input/3_4.xtc exists.\n",
      " rm /home/ytcdata/bigtraj_fluctmatch/split_5/tat_21mer/bdna+bdna/3_4/input/3_4.xtc\n",
      "/home/ytcdata/bigtraj_fluctmatch/split_5/tat_21mer/bdna+bdna/3_4/input/3_4.dcd exists.\n",
      " rm /home/ytcdata/bigtraj_fluctmatch/split_5/tat_21mer/bdna+bdna/3_4/input/3_4.dcd\n",
      "/home/ytcdata/bigtraj_fluctmatch/split_5/tat_21mer/bdna+bdna/4_5/input/4_5.xtc exists.\n",
      " rm /home/ytcdata/bigtraj_fluctmatch/split_5/tat_21mer/bdna+bdna/4_5/input/4_5.xtc\n",
      "/home/ytcdata/bigtraj_fluctmatch/split_5/tat_21mer/bdna+bdna/4_5/input/4_5.dcd exists.\n",
      " rm /home/ytcdata/bigtraj_fluctmatch/split_5/tat_21mer/bdna+bdna/4_5/input/4_5.dcd\n"
     ]
    }
   ],
   "source": [
    "# Remove allatoms.dcd and allatoms.xtc\n",
    "b_agent.remove_all_redudant_xtc_dcd()"
   ]
  },
  {
   "cell_type": "markdown",
   "metadata": {},
   "source": [
    "### Part 5: Make Average CRD"
   ]
  },
  {
   "cell_type": "code",
   "execution_count": 4,
   "metadata": {},
   "outputs": [
    {
     "name": "stdout",
     "output_type": "stream",
     "text": [
      "charmm< /home/ytcdata/bigtraj_fluctmatch/split_5/tat_21mer/bdna+bdna/0_1/charmm_inp/write_no_h_avg_crd.inp > /home/ytcdata/bigtraj_fluctmatch/split_5/tat_21mer/bdna+bdna/0_1/charmm_dat/write_no_h_avg_crd.dat\n",
      "charmm< /home/ytcdata/bigtraj_fluctmatch/split_5/tat_21mer/bdna+bdna/1_2/charmm_inp/write_no_h_avg_crd.inp > /home/ytcdata/bigtraj_fluctmatch/split_5/tat_21mer/bdna+bdna/1_2/charmm_dat/write_no_h_avg_crd.dat\n",
      "charmm< /home/ytcdata/bigtraj_fluctmatch/split_5/tat_21mer/bdna+bdna/2_3/charmm_inp/write_no_h_avg_crd.inp > /home/ytcdata/bigtraj_fluctmatch/split_5/tat_21mer/bdna+bdna/2_3/charmm_dat/write_no_h_avg_crd.dat\n",
      "charmm< /home/ytcdata/bigtraj_fluctmatch/split_5/tat_21mer/bdna+bdna/3_4/charmm_inp/write_no_h_avg_crd.inp > /home/ytcdata/bigtraj_fluctmatch/split_5/tat_21mer/bdna+bdna/3_4/charmm_dat/write_no_h_avg_crd.dat\n",
      "charmm< /home/ytcdata/bigtraj_fluctmatch/split_5/tat_21mer/bdna+bdna/4_5/charmm_inp/write_no_h_avg_crd.inp > /home/ytcdata/bigtraj_fluctmatch/split_5/tat_21mer/bdna+bdna/4_5/charmm_dat/write_no_h_avg_crd.dat\n"
     ]
    }
   ],
   "source": [
    "b_agent.make_avg_crd()"
   ]
  },
  {
   "cell_type": "markdown",
   "metadata": {},
   "source": [
    "### Part 6: prepare ENM files"
   ]
  },
  {
   "cell_type": "markdown",
   "metadata": {},
   "source": [
    "##### Set required dictionary"
   ]
  },
  {
   "cell_type": "code",
   "execution_count": 5,
   "metadata": {},
   "outputs": [
    {
     "name": "stderr",
     "output_type": "stream",
     "text": [
      "/home/yizaochen/miniconda3/envs/fluctmatch/lib/python3.8/site-packages/MDAnalysis/topology/base.py:203: DeprecationWarning: `np.int` is a deprecated alias for the builtin `int`. To silence this warning, use `int` by itself. Doing this will not modify any behavior and is safe. When replacing `np.int`, you may wish to use e.g. `np.int64` or `np.int32` to specify the precision. If you wish to review your current use, check the release note link for additional information.\n",
      "Deprecated in NumPy 1.20; for more details and guidance: https://numpy.org/devdocs/release/1.20.0-notes.html#deprecations\n",
      "  residx = np.zeros_like(criteria[0], dtype=np.int)\n",
      "/home/yizaochen/miniconda3/envs/fluctmatch/lib/python3.8/site-packages/MDAnalysis/core/selection.py:521: DeprecationWarning: `np.bool` is a deprecated alias for the builtin `bool`. To silence this warning, use `bool` by itself. Doing this will not modify any behavior and is safe. If you specifically wanted the numpy scalar type, use `np.bool_` here.\n",
      "Deprecated in NumPy 1.20; for more details and guidance: https://numpy.org/devdocs/release/1.20.0-notes.html#deprecations\n",
      "  mask = np.zeros(len(group), dtype=np.bool)\n"
     ]
    }
   ],
   "source": [
    "b_agent.set_required_dictionaries()"
   ]
  },
  {
   "cell_type": "markdown",
   "metadata": {},
   "source": [
    "Get All Pairs"
   ]
  },
  {
   "cell_type": "code",
   "execution_count": 6,
   "metadata": {},
   "outputs": [
    {
     "name": "stdout",
     "output_type": "stream",
     "text": [
      "0_1: 855 beads and 8767 pairs\n",
      "1_2: 855 beads and 8767 pairs\n",
      "2_3: 855 beads and 8767 pairs\n",
      "3_4: 855 beads and 8767 pairs\n",
      "4_5: 855 beads and 8767 pairs\n"
     ]
    }
   ],
   "source": [
    "b_agent.get_all_pairs(cutoff)"
   ]
  },
  {
   "cell_type": "markdown",
   "metadata": {},
   "source": [
    "Make RTF"
   ]
  },
  {
   "cell_type": "code",
   "execution_count": 7,
   "metadata": {},
   "outputs": [
    {
     "name": "stdout",
     "output_type": "stream",
     "text": [
      "Generate /home/ytcdata/bigtraj_fluctmatch/split_5/tat_21mer/bdna+bdna/0_1/rtf_ic_str/na_enm_4.70.rtf\n",
      "Generate /home/ytcdata/bigtraj_fluctmatch/split_5/tat_21mer/bdna+bdna/1_2/rtf_ic_str/na_enm_4.70.rtf\n",
      "Generate /home/ytcdata/bigtraj_fluctmatch/split_5/tat_21mer/bdna+bdna/2_3/rtf_ic_str/na_enm_4.70.rtf\n",
      "Generate /home/ytcdata/bigtraj_fluctmatch/split_5/tat_21mer/bdna+bdna/3_4/rtf_ic_str/na_enm_4.70.rtf\n",
      "Generate /home/ytcdata/bigtraj_fluctmatch/split_5/tat_21mer/bdna+bdna/4_5/rtf_ic_str/na_enm_4.70.rtf\n"
     ]
    }
   ],
   "source": [
    "b_agent.make_all_rtfs(cutoff)"
   ]
  },
  {
   "cell_type": "markdown",
   "metadata": {},
   "source": [
    "Make IC-Stream "
   ]
  },
  {
   "cell_type": "code",
   "execution_count": 8,
   "metadata": {},
   "outputs": [
    {
     "name": "stdout",
     "output_type": "stream",
     "text": [
      "Generate /home/ytcdata/bigtraj_fluctmatch/split_5/tat_21mer/bdna+bdna/0_1/rtf_ic_str/na_enm_4.70.str\n",
      "Generate /home/ytcdata/bigtraj_fluctmatch/split_5/tat_21mer/bdna+bdna/1_2/rtf_ic_str/na_enm_4.70.str\n",
      "Generate /home/ytcdata/bigtraj_fluctmatch/split_5/tat_21mer/bdna+bdna/2_3/rtf_ic_str/na_enm_4.70.str\n",
      "Generate /home/ytcdata/bigtraj_fluctmatch/split_5/tat_21mer/bdna+bdna/3_4/rtf_ic_str/na_enm_4.70.str\n",
      "Generate /home/ytcdata/bigtraj_fluctmatch/split_5/tat_21mer/bdna+bdna/4_5/rtf_ic_str/na_enm_4.70.str\n"
     ]
    }
   ],
   "source": [
    "b_agent.make_all_icstrs(cutoff)"
   ]
  },
  {
   "cell_type": "markdown",
   "metadata": {},
   "source": [
    "Make ENM CRD"
   ]
  },
  {
   "cell_type": "code",
   "execution_count": 9,
   "metadata": {},
   "outputs": [
    {
     "name": "stdout",
     "output_type": "stream",
     "text": [
      "charmm< /home/ytcdata/bigtraj_fluctmatch/split_5/tat_21mer/bdna+bdna/0_1/charmm_inp/make_enm_crd.inp > /home/ytcdata/bigtraj_fluctmatch/split_5/tat_21mer/bdna+bdna/0_1/charmm_dat/make_enm_crd.dat\n",
      "charmm< /home/ytcdata/bigtraj_fluctmatch/split_5/tat_21mer/bdna+bdna/1_2/charmm_inp/make_enm_crd.inp > /home/ytcdata/bigtraj_fluctmatch/split_5/tat_21mer/bdna+bdna/1_2/charmm_dat/make_enm_crd.dat\n",
      "charmm< /home/ytcdata/bigtraj_fluctmatch/split_5/tat_21mer/bdna+bdna/2_3/charmm_inp/make_enm_crd.inp > /home/ytcdata/bigtraj_fluctmatch/split_5/tat_21mer/bdna+bdna/2_3/charmm_dat/make_enm_crd.dat\n",
      "charmm< /home/ytcdata/bigtraj_fluctmatch/split_5/tat_21mer/bdna+bdna/3_4/charmm_inp/make_enm_crd.inp > /home/ytcdata/bigtraj_fluctmatch/split_5/tat_21mer/bdna+bdna/3_4/charmm_dat/make_enm_crd.dat\n",
      "charmm< /home/ytcdata/bigtraj_fluctmatch/split_5/tat_21mer/bdna+bdna/4_5/charmm_inp/make_enm_crd.inp > /home/ytcdata/bigtraj_fluctmatch/split_5/tat_21mer/bdna+bdna/4_5/charmm_dat/make_enm_crd.dat\n"
     ]
    }
   ],
   "source": [
    "b_agent.make_all_enm_crds()"
   ]
  },
  {
   "cell_type": "markdown",
   "metadata": {},
   "source": [
    "### Part 6: Tarball and Update to multiphysics"
   ]
  },
  {
   "cell_type": "code",
   "execution_count": 10,
   "metadata": {},
   "outputs": [
    {
     "name": "stdout",
     "output_type": "stream",
     "text": [
      "Archive /home/ytcdata/bigtraj_fluctmatch/split_5/tat_21mer into /home/ytcdata/bigtraj_fluctmatch/split_5/tat_21mer.zip\n"
     ]
    }
   ],
   "source": [
    "b_agent.archive_host_folder()"
   ]
  },
  {
   "cell_type": "code",
   "execution_count": 3,
   "metadata": {},
   "outputs": [
    {
     "name": "stdout",
     "output_type": "stream",
     "text": [
      "scp /home/ytcdata/bigtraj_fluctmatch/split_5/tat_21mer.zip yizaochen@multiscale:/home/yizaochen/bigtraj_fluctmatch/split_5/tat_21mer.zip\n"
     ]
    }
   ],
   "source": [
    "#b_agent.update_to_multiphysics()\n",
    "b_agent.update_to_multiscale()"
   ]
  },
  {
   "cell_type": "code",
   "execution_count": null,
   "metadata": {},
   "outputs": [],
   "source": []
  }
 ],
 "metadata": {
  "kernelspec": {
   "display_name": "Python 3",
   "language": "python",
   "name": "python3"
  },
  "language_info": {
   "codemirror_mode": {
    "name": "ipython",
    "version": 3
   },
   "file_extension": ".py",
   "mimetype": "text/x-python",
   "name": "python",
   "nbconvert_exporter": "python",
   "pygments_lexer": "ipython3",
   "version": "3.8.5"
  }
 },
 "nbformat": 4,
 "nbformat_minor": 4
}
