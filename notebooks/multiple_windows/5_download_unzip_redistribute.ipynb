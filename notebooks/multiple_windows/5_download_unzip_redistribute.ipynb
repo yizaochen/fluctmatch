{
 "cells": [
  {
   "cell_type": "code",
   "execution_count": 1,
   "metadata": {},
   "outputs": [],
   "source": [
    "from fluctmatch.bigtraj import BigTrajAgent\n",
    "allsys_folder = '/home/yizaochen/codes/dna_rna/all_systems'\n",
    "simu_folder = '/home/ytcdata/simulation'\n",
    "cutoff = 4.7"
   ]
  },
  {
   "cell_type": "markdown",
   "metadata": {},
   "source": [
    "### Part 1:  Initialize"
   ]
  },
  {
   "cell_type": "code",
   "execution_count": 15,
   "metadata": {},
   "outputs": [
    {
     "name": "stdout",
     "output_type": "stream",
     "text": [
      "/home/yizaochen/codes/dna_rna/all_systems/gcgc_21mer exists\n",
      "/home/yizaochen/codes/dna_rna/all_systems/gcgc_21mer/bdna+bdna exists\n",
      "/home/yizaochen/codes/dna_rna/all_systems/gcgc_21mer/bdna+bdna/input exists\n",
      "/home/yizaochen/codes/dna_rna/all_systems/gcgc_21mer/bdna+bdna/input/allatoms exists\n",
      "/home/yizaochen/codes/dna_rna/all_systems/gcgc_21mer/bdna+bdna/input/heavyatoms exists\n",
      "/home/yizaochen/codes/dna_rna/all_systems/gcgc_21mer/bdna+bdna/charmm_inp exists\n",
      "/home/yizaochen/codes/dna_rna/all_systems/gcgc_21mer/bdna+bdna/charmm_dat exists\n",
      "/home/yizaochen/codes/dna_rna/all_systems/gcgc_21mer/bdna+bdna/make_crd exists\n"
     ]
    }
   ],
   "source": [
    "host = 'gcgc_21mer'\n",
    "type_na = 'bdna+bdna'\n",
    "\n",
    "split_5 = False\n",
    "one_big_window = True\n",
    "\n",
    "#bigtraj_folder = '/home/ytcdata/bigtraj_fluctmatch/split_5'\n",
    "bigtraj_folder = '/home/ytcdata/bigtraj_fluctmatch/5000ns'\n",
    "#bigtraj_folder = '/home/ytcdata/bigtraj_fluctmatch/1000ns'\n",
    "\n",
    "\n",
    "b_agent = BigTrajAgent(host, type_na, allsys_folder, bigtraj_folder, simu_folder, split_5, one_big_window)"
   ]
  },
  {
   "cell_type": "markdown",
   "metadata": {},
   "source": [
    "### Part 2: Download"
   ]
  },
  {
   "cell_type": "code",
   "execution_count": 16,
   "metadata": {},
   "outputs": [
    {
     "name": "stdout",
     "output_type": "stream",
     "text": [
      "scp yizaochen@multiscale:/home/yizaochen/bigtraj_fluctmatch/5000ns/zipfiles/gcgc_21mer_results.zip /home/ytcdata/bigtraj_fluctmatch/5000ns/gcgc_21mer_results.zip\n"
     ]
    }
   ],
   "source": [
    "#b_agent.download_resultzip_from_multiphysics()\n",
    "b_agent.download_resultzip_from_multiscale()"
   ]
  },
  {
   "cell_type": "markdown",
   "metadata": {},
   "source": [
    "### Part 3: Unzip"
   ]
  },
  {
   "cell_type": "code",
   "execution_count": 18,
   "metadata": {},
   "outputs": [
    {
     "name": "stdout",
     "output_type": "stream",
     "text": [
      "/home/ytcdata/bigtraj_fluctmatch/5000ns/temp_results/gcgc_21mer exists\n",
      "Unzip /home/ytcdata/bigtraj_fluctmatch/5000ns/gcgc_21mer_results.zip into /home/ytcdata/bigtraj_fluctmatch/5000ns/temp_results/gcgc_21mer\n"
     ]
    }
   ],
   "source": [
    "b_agent.unzip_to_tempresults()"
   ]
  },
  {
   "cell_type": "markdown",
   "metadata": {},
   "source": [
    "### Part 4: Redistribute"
   ]
  },
  {
   "cell_type": "code",
   "execution_count": 19,
   "metadata": {},
   "outputs": [
    {
     "name": "stdout",
     "output_type": "stream",
     "text": [
      "cp /home/ytcdata/bigtraj_fluctmatch/5000ns/temp_results/gcgc_21mer/bdna+bdna/0_5000/na_enm_4.70.prm /home/ytcdata/bigtraj_fluctmatch/5000ns/gcgc_21mer/bdna+bdna/0_5000/data/na_enm_4.70.prm\n"
     ]
    }
   ],
   "source": [
    "b_agent.redistribute_results(cutoff)"
   ]
  },
  {
   "cell_type": "code",
   "execution_count": null,
   "metadata": {},
   "outputs": [],
   "source": []
  }
 ],
 "metadata": {
  "kernelspec": {
   "display_name": "Python 3",
   "language": "python",
   "name": "python3"
  },
  "language_info": {
   "codemirror_mode": {
    "name": "ipython",
    "version": 3
   },
   "file_extension": ".py",
   "mimetype": "text/x-python",
   "name": "python",
   "nbconvert_exporter": "python",
   "pygments_lexer": "ipython3",
   "version": "3.8.5"
  }
 },
 "nbformat": 4,
 "nbformat_minor": 4
}
