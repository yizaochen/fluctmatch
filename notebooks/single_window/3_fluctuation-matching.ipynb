{
 "cells": [
  {
   "cell_type": "code",
   "execution_count": 1,
   "metadata": {},
   "outputs": [],
   "source": [
    "from fluctmatch import fluctmatch_interface"
   ]
  },
  {
   "cell_type": "code",
   "execution_count": 2,
   "metadata": {},
   "outputs": [],
   "source": [
    "hosts = ['atat_21mer', 'a_tract_21mer', 'ctct_21mer', \n",
    "         'gcgc_21mer', 'g_tract_21mer', 'tgtg_21mer']\n",
    "hosts = ['tat_21mer']"
   ]
  },
  {
   "cell_type": "code",
   "execution_count": 5,
   "metadata": {},
   "outputs": [],
   "source": [
    "charmm = '/home/yizaochen/opt/c41b1_yz/exec/charmm'\n",
    "rootfolder = '/home/yizaochen/codes/dna_rna/fluctmatch_sequence'\n",
    "type_na = 'bdna+bdna'\n",
    "cutoff = 4.7\n",
    "start = 0\n",
    "end = 2"
   ]
  },
  {
   "cell_type": "code",
   "execution_count": 6,
   "metadata": {},
   "outputs": [
    {
     "name": "stdout",
     "output_type": "stream",
     "text": [
      "/home/yizaochen/codes/dna_rna/fluctmatch_sequence/tat_21mer exists\n",
      "/home/yizaochen/codes/dna_rna/fluctmatch_sequence/tat_21mer/bdna+bdna exists\n",
      "/home/yizaochen/codes/dna_rna/fluctmatch_sequence/tat_21mer/bdna+bdna/input exists\n",
      "/home/yizaochen/codes/dna_rna/fluctmatch_sequence/tat_21mer/bdna+bdna/charmm_inp exists\n",
      "/home/yizaochen/codes/dna_rna/fluctmatch_sequence/tat_21mer/bdna+bdna/charmm_dat exists\n",
      "/home/yizaochen/codes/dna_rna/fluctmatch_sequence/tat_21mer/bdna+bdna/mode_traj exists\n",
      "/home/yizaochen/codes/dna_rna/fluctmatch_sequence/tat_21mer/bdna+bdna/ic exists\n",
      "/home/yizaochen/codes/dna_rna/fluctmatch_sequence/tat_21mer/bdna+bdna/ic_fluct_mat exists\n",
      "/home/yizaochen/codes/dna_rna/fluctmatch_sequence/tat_21mer/bdna+bdna/rtf_ic_str exists\n",
      "/home/yizaochen/codes/dna_rna/fluctmatch_sequence/tat_21mer/bdna+bdna/data exists\n",
      "/home/yizaochen/codes/dna_rna/fluctmatch_sequence/tat_21mer/bdna+bdna/data/backup exists\n",
      "/home/yizaochen/codes/dna_rna/fluctmatch_sequence/tat_21mer/bdna+bdna/scratch exists\n"
     ]
    },
    {
     "ename": "TypeError",
     "evalue": "write_ic_fluct_inp() missing 1 required positional argument: 'rootfolder'",
     "output_type": "error",
     "traceback": [
      "\u001b[0;31m---------------------------------------------------------------------------\u001b[0m",
      "\u001b[0;31mTypeError\u001b[0m                                 Traceback (most recent call last)",
      "\u001b[0;32m<ipython-input-6-b708f191b804>\u001b[0m in \u001b[0;36m<module>\u001b[0;34m\u001b[0m\n\u001b[1;32m      1\u001b[0m \u001b[0;32mfor\u001b[0m \u001b[0mhost\u001b[0m \u001b[0;32min\u001b[0m \u001b[0mhosts\u001b[0m\u001b[0;34m:\u001b[0m\u001b[0;34m\u001b[0m\u001b[0;34m\u001b[0m\u001b[0m\n\u001b[0;32m----> 2\u001b[0;31m     \u001b[0mfluctmatch_interface\u001b[0m\u001b[0;34m.\u001b[0m\u001b[0mmain\u001b[0m\u001b[0;34m(\u001b[0m\u001b[0mrootfolder\u001b[0m\u001b[0;34m,\u001b[0m \u001b[0mhost\u001b[0m\u001b[0;34m,\u001b[0m \u001b[0mtype_na\u001b[0m\u001b[0;34m,\u001b[0m \u001b[0mcutoff\u001b[0m\u001b[0;34m,\u001b[0m \u001b[0mstart\u001b[0m\u001b[0;34m,\u001b[0m \u001b[0mend\u001b[0m\u001b[0;34m,\u001b[0m \u001b[0mcharmm\u001b[0m\u001b[0;34m)\u001b[0m\u001b[0;34m\u001b[0m\u001b[0;34m\u001b[0m\u001b[0m\n\u001b[0m",
      "\u001b[0;32m~/codes/fluctmatch/fluctmatch/fluctmatch_interface.py\u001b[0m in \u001b[0;36mmain\u001b[0;34m(rootfolder, host, type_na, cutoff, start, end, charmm)\u001b[0m\n\u001b[1;32m    141\u001b[0m     \u001b[0micfluct_inp\u001b[0m \u001b[0;34m=\u001b[0m \u001b[0mpath\u001b[0m\u001b[0;34m.\u001b[0m\u001b[0mjoin\u001b[0m\u001b[0;34m(\u001b[0m\u001b[0mcharmminpfolder\u001b[0m\u001b[0;34m,\u001b[0m \u001b[0;34m'ic_fluct_{0:.2f}.inp'\u001b[0m\u001b[0;34m.\u001b[0m\u001b[0mformat\u001b[0m\u001b[0;34m(\u001b[0m\u001b[0mcutoff\u001b[0m\u001b[0;34m)\u001b[0m\u001b[0;34m)\u001b[0m\u001b[0;34m\u001b[0m\u001b[0;34m\u001b[0m\u001b[0m\n\u001b[1;32m    142\u001b[0m     \u001b[0micfluct_dat\u001b[0m \u001b[0;34m=\u001b[0m \u001b[0mpath\u001b[0m\u001b[0;34m.\u001b[0m\u001b[0mjoin\u001b[0m\u001b[0;34m(\u001b[0m\u001b[0mcharmmdatfolder\u001b[0m\u001b[0;34m,\u001b[0m \u001b[0;34m'ic_fluct_{0:.2f}.dat'\u001b[0m\u001b[0;34m.\u001b[0m\u001b[0mformat\u001b[0m\u001b[0;34m(\u001b[0m\u001b[0mcutoff\u001b[0m\u001b[0;34m)\u001b[0m\u001b[0;34m)\u001b[0m\u001b[0;34m\u001b[0m\u001b[0;34m\u001b[0m\u001b[0m\n\u001b[0;32m--> 143\u001b[0;31m     \u001b[0mwrite_ic_fluct_inp\u001b[0m\u001b[0;34m(\u001b[0m\u001b[0micfluct_inp\u001b[0m\u001b[0;34m,\u001b[0m \u001b[0mhost\u001b[0m\u001b[0;34m,\u001b[0m \u001b[0mtype_na\u001b[0m\u001b[0;34m,\u001b[0m \u001b[0mcutoff\u001b[0m\u001b[0;34m,\u001b[0m \u001b[0mrootfolder\u001b[0m\u001b[0;34m)\u001b[0m\u001b[0;34m\u001b[0m\u001b[0;34m\u001b[0m\u001b[0m\n\u001b[0m\u001b[1;32m    144\u001b[0m     \u001b[0mexec_charmm\u001b[0m\u001b[0;34m(\u001b[0m\u001b[0mcharmm\u001b[0m\u001b[0;34m,\u001b[0m \u001b[0micfluct_inp\u001b[0m\u001b[0;34m,\u001b[0m \u001b[0micfluct_dat\u001b[0m\u001b[0;34m)\u001b[0m\u001b[0;34m\u001b[0m\u001b[0;34m\u001b[0m\u001b[0m\n\u001b[1;32m    145\u001b[0m     \u001b[0mmode0ic\u001b[0m \u001b[0;34m=\u001b[0m \u001b[0mpath\u001b[0m\u001b[0;34m.\u001b[0m\u001b[0mjoin\u001b[0m\u001b[0;34m(\u001b[0m\u001b[0micfolder\u001b[0m\u001b[0;34m,\u001b[0m \u001b[0;34m'mode.0.{0:.2f}.ic'\u001b[0m\u001b[0;34m.\u001b[0m\u001b[0mformat\u001b[0m\u001b[0;34m(\u001b[0m\u001b[0mcutoff\u001b[0m\u001b[0;34m)\u001b[0m\u001b[0;34m)\u001b[0m\u001b[0;34m\u001b[0m\u001b[0;34m\u001b[0m\u001b[0m\n",
      "\u001b[0;31mTypeError\u001b[0m: write_ic_fluct_inp() missing 1 required positional argument: 'rootfolder'"
     ]
    }
   ],
   "source": [
    "for host in hosts:\n",
    "    fluctmatch_interface.main(rootfolder, host, type_na, cutoff, start, end, charmm)"
   ]
  },
  {
   "cell_type": "code",
   "execution_count": null,
   "metadata": {},
   "outputs": [],
   "source": []
  }
 ],
 "metadata": {
  "kernelspec": {
   "display_name": "Python 3",
   "language": "python",
   "name": "python3"
  },
  "language_info": {
   "codemirror_mode": {
    "name": "ipython",
    "version": 3
   },
   "file_extension": ".py",
   "mimetype": "text/x-python",
   "name": "python",
   "nbconvert_exporter": "python",
   "pygments_lexer": "ipython3",
   "version": "3.8.5"
  }
 },
 "nbformat": 4,
 "nbformat_minor": 4
}
