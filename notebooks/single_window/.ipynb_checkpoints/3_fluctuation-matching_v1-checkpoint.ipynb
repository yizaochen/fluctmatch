{
 "cells": [
  {
   "cell_type": "markdown",
   "metadata": {},
   "source": [
    "The default location for the execution of this notebook is local computer"
   ]
  },
  {
   "cell_type": "code",
   "execution_count": 8,
   "metadata": {},
   "outputs": [],
   "source": [
    "from os import path\n",
    "import shutil \n",
    "from fluctmatch import fluctmatch_interface\n",
    "from fluctmatch.miscell import check_dir_exist_and_make"
   ]
  },
  {
   "cell_type": "markdown",
   "metadata": {},
   "source": [
    "### Part 1: Set Original Workspace Folder"
   ]
  },
  {
   "cell_type": "code",
   "execution_count": 3,
   "metadata": {},
   "outputs": [],
   "source": [
    "workspace_folder = '/home/yizaochen/codes/dna_rna/fluctmatch_sequence'"
   ]
  },
  {
   "cell_type": "markdown",
   "metadata": {},
   "source": [
    "### Part 2: Set CHARMM Path and host and Create time-label folder"
   ]
  },
  {
   "cell_type": "code",
   "execution_count": 10,
   "metadata": {},
   "outputs": [
    {
     "name": "stdout",
     "output_type": "stream",
     "text": [
      "Working folder: /home/yizaochen/codes/dna_rna/fluctmatch_sequence/tat_21mer/bdna+bdna/0_50000\n",
      "mkdir /home/yizaochen/codes/dna_rna/fluctmatch_sequence/tat_21mer/bdna+bdna/0_50000\n"
     ]
    }
   ],
   "source": [
    "charmm = '/home/yizaochen/opt/c41b1_yz/charmm'\n",
    "host = 'tat_21mer'\n",
    "type_na = 'bdna+bdna'\n",
    "time_label = '0_50000'\n",
    "\n",
    "host_folder = path.join(workspace_folder, host)\n",
    "na_folder = path.join(host_folder, type_na)\n",
    "time_label_folder = path.join(na_folder, time_label)\n",
    "print(f'Working folder: {time_label_folder}')\n",
    "\n",
    "check_dir_exist_and_make(time_label_folder)"
   ]
  },
  {
   "cell_type": "markdown",
   "metadata": {},
   "source": [
    "### Part 3: Move previous folders into it"
   ]
  },
  {
   "cell_type": "code",
   "execution_count": 13,
   "metadata": {},
   "outputs": [
    {
     "name": "stdout",
     "output_type": "stream",
     "text": [
      "mv /home/yizaochen/codes/dna_rna/fluctmatch_sequence/tat_21mer/bdna+bdna/charmm_dat /home/yizaochen/codes/dna_rna/fluctmatch_sequence/tat_21mer/bdna+bdna/0_50000/charmm_dat\n",
      "mv /home/yizaochen/codes/dna_rna/fluctmatch_sequence/tat_21mer/bdna+bdna/data /home/yizaochen/codes/dna_rna/fluctmatch_sequence/tat_21mer/bdna+bdna/0_50000/data\n",
      "mv /home/yizaochen/codes/dna_rna/fluctmatch_sequence/tat_21mer/bdna+bdna/ic_fluct_mat /home/yizaochen/codes/dna_rna/fluctmatch_sequence/tat_21mer/bdna+bdna/0_50000/ic_fluct_mat\n",
      "mv /home/yizaochen/codes/dna_rna/fluctmatch_sequence/tat_21mer/bdna+bdna/mode_traj /home/yizaochen/codes/dna_rna/fluctmatch_sequence/tat_21mer/bdna+bdna/0_50000/mode_traj\n",
      "mv /home/yizaochen/codes/dna_rna/fluctmatch_sequence/tat_21mer/bdna+bdna/scratch /home/yizaochen/codes/dna_rna/fluctmatch_sequence/tat_21mer/bdna+bdna/0_50000/scratch\n",
      "mv /home/yizaochen/codes/dna_rna/fluctmatch_sequence/tat_21mer/bdna+bdna/charmm_inp /home/yizaochen/codes/dna_rna/fluctmatch_sequence/tat_21mer/bdna+bdna/0_50000/charmm_inp\n",
      "mv /home/yizaochen/codes/dna_rna/fluctmatch_sequence/tat_21mer/bdna+bdna/ic /home/yizaochen/codes/dna_rna/fluctmatch_sequence/tat_21mer/bdna+bdna/0_50000/ic\n",
      "mv /home/yizaochen/codes/dna_rna/fluctmatch_sequence/tat_21mer/bdna+bdna/input /home/yizaochen/codes/dna_rna/fluctmatch_sequence/tat_21mer/bdna+bdna/0_50000/input\n",
      "mv /home/yizaochen/codes/dna_rna/fluctmatch_sequence/tat_21mer/bdna+bdna/rtf_ic_str /home/yizaochen/codes/dna_rna/fluctmatch_sequence/tat_21mer/bdna+bdna/0_50000/rtf_ic_str\n"
     ]
    }
   ],
   "source": [
    "folders = ['charmm_dat', 'data', 'ic_fluct_mat', 'mode_traj', 'scratch', 'charmm_inp', 'ic', 'input', 'rtf_ic_str']\n",
    "for folder in folders:\n",
    "    old_folder = path.join(na_folder, folder)\n",
    "    new_folder = path.join(time_label_folder, folder)\n",
    "    if path.exists(new_folder):\n",
    "        print(\"{0} exists. No action\".format(file_path))\n",
    "    else:\n",
    "        shutil.move(old_folder, new_folder)\n",
    "        print(f'mv {old_folder} {new_folder}')"
   ]
  },
  {
   "cell_type": "code",
   "execution_count": 17,
   "metadata": {},
   "outputs": [
    {
     "name": "stdout",
     "output_type": "stream",
     "text": [
      "mv /home/yizaochen/codes/dna_rna/fluctmatch_sequence/tat_21mer/bdna+bdna/0_50000/mode_traj/mode.0.dcd /home/yizaochen/codes/dna_rna/fluctmatch_sequence/tat_21mer/bdna+bdna/0_50000/input/0_50000.nohydrogen.dcd\n"
     ]
    }
   ],
   "source": [
    "old_dcd = path.join(time_label_folder, 'mode_traj', 'mode.0.dcd')\n",
    "new_dcd = path.join(time_label_folder, 'input', f'{time_label}.nohydrogen.dcd')\n",
    "if path.exists(new_dcd):\n",
    "    print(\"{0} exists. No action\".format(file_path))\n",
    "else:\n",
    "    shutil.move(old_dcd, new_dcd)\n",
    "    print(f'mv {old_dcd} {new_dcd}')"
   ]
  },
  {
   "cell_type": "markdown",
   "metadata": {},
   "source": [
    "### Part 4: Set parameters for flutuation-matching"
   ]
  },
  {
   "cell_type": "code",
   "execution_count": 19,
   "metadata": {},
   "outputs": [],
   "source": [
    "cutoff = 4.7\n",
    "start = 0\n",
    "end = 250\n",
    "\n",
    "bigtraj_folder = workspace_folder"
   ]
  },
  {
   "cell_type": "markdown",
   "metadata": {},
   "source": [
    "### Part 5: Run Fluctuation-Matching"
   ]
  },
  {
   "cell_type": "code",
   "execution_count": 20,
   "metadata": {},
   "outputs": [
    {
     "name": "stdout",
     "output_type": "stream",
     "text": [
      "/scratch/tat_21mer exists\n",
      "/scratch/tat_21mer/bdna+bdna exists\n",
      "/scratch/tat_21mer/bdna+bdna/0_50000 exists\n",
      "charmm< /home/yizaochen/codes/dna_rna/fluctmatch_sequence/tat_21mer/bdna+bdna/0_50000/charmm_inp/ic_fluct_4.70.inp > /home/yizaochen/codes/dna_rna/fluctmatch_sequence/tat_21mer/bdna+bdna/0_50000/charmm_dat/ic_fluct_4.70.dat\n",
      "charmm< /home/yizaochen/codes/dna_rna/fluctmatch_sequence/tat_21mer/bdna+bdna/0_50000/charmm_inp/ic_avg_4.70.inp > /home/yizaochen/codes/dna_rna/fluctmatch_sequence/tat_21mer/bdna+bdna/0_50000/charmm_dat/ic_avg_4.70.dat\n",
      "charmm< /scratch/tat_21mer/bdna+bdna/0_50000/nmainit.inp > /scratch/tat_21mer/bdna+bdna/0_50000/nmainit.dat\n",
      "/scratch/tat_21mer/bdna+bdna/0_50000/backup exists\n",
      "IterNum: 0\n",
      "charmm< /scratch/tat_21mer/bdna+bdna/0_50000/nma.inp > /scratch/tat_21mer/bdna+bdna/0_50000/nma.dat\n",
      "IterNum: 1\n",
      "charmm< /scratch/tat_21mer/bdna+bdna/0_50000/nma.inp > /scratch/tat_21mer/bdna+bdna/0_50000/nma.dat\n",
      "IterNum: 2\n",
      "charmm< /scratch/tat_21mer/bdna+bdna/0_50000/nma.inp > /scratch/tat_21mer/bdna+bdna/0_50000/nma.dat\n",
      "IterNum: 3\n",
      "charmm< /scratch/tat_21mer/bdna+bdna/0_50000/nma.inp > /scratch/tat_21mer/bdna+bdna/0_50000/nma.dat\n",
      "IterNum: 4\n",
      "charmm< /scratch/tat_21mer/bdna+bdna/0_50000/nma.inp > /scratch/tat_21mer/bdna+bdna/0_50000/nma.dat\n",
      "IterNum: 5\n",
      "charmm< /scratch/tat_21mer/bdna+bdna/0_50000/nma.inp > /scratch/tat_21mer/bdna+bdna/0_50000/nma.dat\n"
     ]
    },
    {
     "ename": "KeyboardInterrupt",
     "evalue": "",
     "output_type": "error",
     "traceback": [
      "\u001b[0;31m-------------------------------------------------------------------------\u001b[0m",
      "\u001b[0;31mKeyboardInterrupt\u001b[0m                       Traceback (most recent call last)",
      "\u001b[0;32m<ipython-input-20-112510a8075e>\u001b[0m in \u001b[0;36m<module>\u001b[0;34m\u001b[0m\n\u001b[0;32m----> 1\u001b[0;31m \u001b[0mfluctmatch_interface\u001b[0m\u001b[0;34m.\u001b[0m\u001b[0mmain_split_window\u001b[0m\u001b[0;34m(\u001b[0m\u001b[0mbigtraj_folder\u001b[0m\u001b[0;34m,\u001b[0m \u001b[0mhost\u001b[0m\u001b[0;34m,\u001b[0m \u001b[0mtype_na\u001b[0m\u001b[0;34m,\u001b[0m \u001b[0mtime_label\u001b[0m\u001b[0;34m,\u001b[0m \u001b[0mcutoff\u001b[0m\u001b[0;34m,\u001b[0m \u001b[0mstart\u001b[0m\u001b[0;34m,\u001b[0m \u001b[0mend\u001b[0m\u001b[0;34m,\u001b[0m \u001b[0mcharmm\u001b[0m\u001b[0;34m)\u001b[0m\u001b[0;34m\u001b[0m\u001b[0;34m\u001b[0m\u001b[0m\n\u001b[0m",
      "\u001b[0;32m~/codes/fluctmatch/fluctmatch/fluctmatch_interface.py\u001b[0m in \u001b[0;36mmain_split_window\u001b[0;34m(rootfolder, host, type_na, time_label, cutoff, start, end, charmm)\u001b[0m\n\u001b[1;32m    258\u001b[0m \u001b[0;34m\u001b[0m\u001b[0m\n\u001b[1;32m    259\u001b[0m     \u001b[0;31m# Fluctuation-Matching\u001b[0m\u001b[0;34m\u001b[0m\u001b[0;34m\u001b[0m\u001b[0;34m\u001b[0m\u001b[0m\n\u001b[0;32m--> 260\u001b[0;31m     \u001b[0mfluct_match\u001b[0m\u001b[0;34m(\u001b[0m\u001b[0mhost\u001b[0m\u001b[0;34m,\u001b[0m \u001b[0mtype_na\u001b[0m\u001b[0;34m,\u001b[0m \u001b[0mtime_label\u001b[0m\u001b[0;34m,\u001b[0m \u001b[0mstart\u001b[0m\u001b[0;34m,\u001b[0m \u001b[0mend\u001b[0m\u001b[0;34m,\u001b[0m \u001b[0mcutoff\u001b[0m\u001b[0;34m,\u001b[0m \u001b[0micfluct_0\u001b[0m\u001b[0;34m,\u001b[0m \u001b[0micavg_0\u001b[0m\u001b[0;34m,\u001b[0m \u001b[0mscratchfolder\u001b[0m\u001b[0;34m,\u001b[0m \u001b[0mcharmm\u001b[0m\u001b[0;34m,\u001b[0m \u001b[0mrootfolder\u001b[0m\u001b[0;34m)\u001b[0m\u001b[0;34m\u001b[0m\u001b[0;34m\u001b[0m\u001b[0m\n\u001b[0m\u001b[1;32m    261\u001b[0m \u001b[0;34m\u001b[0m\u001b[0m\n\u001b[1;32m    262\u001b[0m     \u001b[0;31m# Copy Back to the folder\u001b[0m\u001b[0;34m\u001b[0m\u001b[0;34m\u001b[0m\u001b[0;34m\u001b[0m\u001b[0m\n",
      "\u001b[0;32m~/codes/fluctmatch/fluctmatch/fluctmatch_interface.py\u001b[0m in \u001b[0;36mfluct_match\u001b[0;34m(host, type_na, time_label, start, end, cutoff, icfluct_0, icavg_0, scratchfolder, charmm, rootfolder)\u001b[0m\n\u001b[1;32m     97\u001b[0m         \u001b[0;32mif\u001b[0m \u001b[0mi\u001b[0m \u001b[0;34m==\u001b[0m \u001b[0;36m0\u001b[0m\u001b[0;34m:\u001b[0m\u001b[0;34m\u001b[0m\u001b[0;34m\u001b[0m\u001b[0m\n\u001b[1;32m     98\u001b[0m             \u001b[0mwrite_nmainit_inp\u001b[0m\u001b[0;34m(\u001b[0m\u001b[0mnma_inp\u001b[0m\u001b[0;34m,\u001b[0m \u001b[0mhost\u001b[0m\u001b[0;34m,\u001b[0m \u001b[0mtype_na\u001b[0m\u001b[0;34m,\u001b[0m \u001b[0mtime_label\u001b[0m\u001b[0;34m,\u001b[0m \u001b[0mcutoff\u001b[0m\u001b[0;34m,\u001b[0m \u001b[0mrootfolder\u001b[0m\u001b[0;34m,\u001b[0m \u001b[0mscratchfolder\u001b[0m\u001b[0;34m)\u001b[0m\u001b[0;34m\u001b[0m\u001b[0;34m\u001b[0m\u001b[0m\n\u001b[0;32m---> 99\u001b[0;31m         \u001b[0mexec_charmm\u001b[0m\u001b[0;34m(\u001b[0m\u001b[0mcharmm\u001b[0m\u001b[0;34m,\u001b[0m \u001b[0mnma_inp\u001b[0m\u001b[0;34m,\u001b[0m \u001b[0mnma_dat\u001b[0m\u001b[0;34m)\u001b[0m\u001b[0;34m\u001b[0m\u001b[0;34m\u001b[0m\u001b[0m\n\u001b[0m\u001b[1;32m    100\u001b[0m         \u001b[0mtime\u001b[0m\u001b[0;34m.\u001b[0m\u001b[0msleep\u001b[0m\u001b[0;34m(\u001b[0m\u001b[0;36m2\u001b[0m\u001b[0;34m)\u001b[0m\u001b[0;34m\u001b[0m\u001b[0;34m\u001b[0m\u001b[0m\n\u001b[1;32m    101\u001b[0m \u001b[0;34m\u001b[0m\u001b[0m\n",
      "\u001b[0;32m~/codes/fluctmatch/fluctmatch/fluctmatch_interface.py\u001b[0m in \u001b[0;36mexec_charmm\u001b[0;34m(charmm, f_input, f_output)\u001b[0m\n\u001b[1;32m     19\u001b[0m \u001b[0;32mdef\u001b[0m \u001b[0mexec_charmm\u001b[0m\u001b[0;34m(\u001b[0m\u001b[0mcharmm\u001b[0m\u001b[0;34m,\u001b[0m \u001b[0mf_input\u001b[0m\u001b[0;34m,\u001b[0m \u001b[0mf_output\u001b[0m\u001b[0;34m)\u001b[0m\u001b[0;34m:\u001b[0m\u001b[0;34m\u001b[0m\u001b[0;34m\u001b[0m\u001b[0m\n\u001b[1;32m     20\u001b[0m     \u001b[0mprint\u001b[0m\u001b[0;34m(\u001b[0m\u001b[0;34m\"charmm< {0} > {1}\"\u001b[0m\u001b[0;34m.\u001b[0m\u001b[0mformat\u001b[0m\u001b[0;34m(\u001b[0m\u001b[0mf_input\u001b[0m\u001b[0;34m,\u001b[0m \u001b[0mf_output\u001b[0m\u001b[0;34m)\u001b[0m\u001b[0;34m)\u001b[0m\u001b[0;34m\u001b[0m\u001b[0;34m\u001b[0m\u001b[0m\n\u001b[0;32m---> 21\u001b[0;31m     \u001b[0mcheck_call\u001b[0m\u001b[0;34m(\u001b[0m\u001b[0mcharmm\u001b[0m\u001b[0;34m,\u001b[0m \u001b[0mstdin\u001b[0m\u001b[0;34m=\u001b[0m\u001b[0mopen\u001b[0m\u001b[0;34m(\u001b[0m\u001b[0mf_input\u001b[0m\u001b[0;34m,\u001b[0m \u001b[0;34m'r'\u001b[0m\u001b[0;34m)\u001b[0m\u001b[0;34m,\u001b[0m \u001b[0mstdout\u001b[0m\u001b[0;34m=\u001b[0m\u001b[0mopen\u001b[0m\u001b[0;34m(\u001b[0m\u001b[0mf_output\u001b[0m\u001b[0;34m,\u001b[0m \u001b[0;34m'w+'\u001b[0m\u001b[0;34m)\u001b[0m\u001b[0;34m,\u001b[0m \u001b[0mshell\u001b[0m\u001b[0;34m=\u001b[0m\u001b[0;32mTrue\u001b[0m\u001b[0;34m)\u001b[0m\u001b[0;34m\u001b[0m\u001b[0;34m\u001b[0m\u001b[0m\n\u001b[0m\u001b[1;32m     22\u001b[0m \u001b[0;34m\u001b[0m\u001b[0m\n\u001b[1;32m     23\u001b[0m \u001b[0;34m\u001b[0m\u001b[0m\n",
      "\u001b[0;32m~/miniconda3/envs/fluctmatch/lib/python3.8/subprocess.py\u001b[0m in \u001b[0;36mcheck_call\u001b[0;34m(*popenargs, **kwargs)\u001b[0m\n\u001b[1;32m    357\u001b[0m     \u001b[0mcheck_call\u001b[0m\u001b[0;34m(\u001b[0m\u001b[0;34m[\u001b[0m\u001b[0;34m\"ls\"\u001b[0m\u001b[0;34m,\u001b[0m \u001b[0;34m\"-l\"\u001b[0m\u001b[0;34m]\u001b[0m\u001b[0;34m)\u001b[0m\u001b[0;34m\u001b[0m\u001b[0;34m\u001b[0m\u001b[0m\n\u001b[1;32m    358\u001b[0m     \"\"\"\n\u001b[0;32m--> 359\u001b[0;31m     \u001b[0mretcode\u001b[0m \u001b[0;34m=\u001b[0m \u001b[0mcall\u001b[0m\u001b[0;34m(\u001b[0m\u001b[0;34m*\u001b[0m\u001b[0mpopenargs\u001b[0m\u001b[0;34m,\u001b[0m \u001b[0;34m**\u001b[0m\u001b[0mkwargs\u001b[0m\u001b[0;34m)\u001b[0m\u001b[0;34m\u001b[0m\u001b[0;34m\u001b[0m\u001b[0m\n\u001b[0m\u001b[1;32m    360\u001b[0m     \u001b[0;32mif\u001b[0m \u001b[0mretcode\u001b[0m\u001b[0;34m:\u001b[0m\u001b[0;34m\u001b[0m\u001b[0;34m\u001b[0m\u001b[0m\n\u001b[1;32m    361\u001b[0m         \u001b[0mcmd\u001b[0m \u001b[0;34m=\u001b[0m \u001b[0mkwargs\u001b[0m\u001b[0;34m.\u001b[0m\u001b[0mget\u001b[0m\u001b[0;34m(\u001b[0m\u001b[0;34m\"args\"\u001b[0m\u001b[0;34m)\u001b[0m\u001b[0;34m\u001b[0m\u001b[0;34m\u001b[0m\u001b[0m\n",
      "\u001b[0;32m~/miniconda3/envs/fluctmatch/lib/python3.8/subprocess.py\u001b[0m in \u001b[0;36mcall\u001b[0;34m(timeout, *popenargs, **kwargs)\u001b[0m\n\u001b[1;32m    340\u001b[0m     \u001b[0;32mwith\u001b[0m \u001b[0mPopen\u001b[0m\u001b[0;34m(\u001b[0m\u001b[0;34m*\u001b[0m\u001b[0mpopenargs\u001b[0m\u001b[0;34m,\u001b[0m \u001b[0;34m**\u001b[0m\u001b[0mkwargs\u001b[0m\u001b[0;34m)\u001b[0m \u001b[0;32mas\u001b[0m \u001b[0mp\u001b[0m\u001b[0;34m:\u001b[0m\u001b[0;34m\u001b[0m\u001b[0;34m\u001b[0m\u001b[0m\n\u001b[1;32m    341\u001b[0m         \u001b[0;32mtry\u001b[0m\u001b[0;34m:\u001b[0m\u001b[0;34m\u001b[0m\u001b[0;34m\u001b[0m\u001b[0m\n\u001b[0;32m--> 342\u001b[0;31m             \u001b[0;32mreturn\u001b[0m \u001b[0mp\u001b[0m\u001b[0;34m.\u001b[0m\u001b[0mwait\u001b[0m\u001b[0;34m(\u001b[0m\u001b[0mtimeout\u001b[0m\u001b[0;34m=\u001b[0m\u001b[0mtimeout\u001b[0m\u001b[0;34m)\u001b[0m\u001b[0;34m\u001b[0m\u001b[0;34m\u001b[0m\u001b[0m\n\u001b[0m\u001b[1;32m    343\u001b[0m         \u001b[0;32mexcept\u001b[0m\u001b[0;34m:\u001b[0m  \u001b[0;31m# Including KeyboardInterrupt, wait handled that.\u001b[0m\u001b[0;34m\u001b[0m\u001b[0;34m\u001b[0m\u001b[0m\n\u001b[1;32m    344\u001b[0m             \u001b[0mp\u001b[0m\u001b[0;34m.\u001b[0m\u001b[0mkill\u001b[0m\u001b[0;34m(\u001b[0m\u001b[0;34m)\u001b[0m\u001b[0;34m\u001b[0m\u001b[0;34m\u001b[0m\u001b[0m\n",
      "\u001b[0;32m~/miniconda3/envs/fluctmatch/lib/python3.8/subprocess.py\u001b[0m in \u001b[0;36mwait\u001b[0;34m(self, timeout)\u001b[0m\n\u001b[1;32m   1077\u001b[0m             \u001b[0mendtime\u001b[0m \u001b[0;34m=\u001b[0m \u001b[0m_time\u001b[0m\u001b[0;34m(\u001b[0m\u001b[0;34m)\u001b[0m \u001b[0;34m+\u001b[0m \u001b[0mtimeout\u001b[0m\u001b[0;34m\u001b[0m\u001b[0;34m\u001b[0m\u001b[0m\n\u001b[1;32m   1078\u001b[0m         \u001b[0;32mtry\u001b[0m\u001b[0;34m:\u001b[0m\u001b[0;34m\u001b[0m\u001b[0;34m\u001b[0m\u001b[0m\n\u001b[0;32m-> 1079\u001b[0;31m             \u001b[0;32mreturn\u001b[0m \u001b[0mself\u001b[0m\u001b[0;34m.\u001b[0m\u001b[0m_wait\u001b[0m\u001b[0;34m(\u001b[0m\u001b[0mtimeout\u001b[0m\u001b[0;34m=\u001b[0m\u001b[0mtimeout\u001b[0m\u001b[0;34m)\u001b[0m\u001b[0;34m\u001b[0m\u001b[0;34m\u001b[0m\u001b[0m\n\u001b[0m\u001b[1;32m   1080\u001b[0m         \u001b[0;32mexcept\u001b[0m \u001b[0mKeyboardInterrupt\u001b[0m\u001b[0;34m:\u001b[0m\u001b[0;34m\u001b[0m\u001b[0;34m\u001b[0m\u001b[0m\n\u001b[1;32m   1081\u001b[0m             \u001b[0;31m# https://bugs.python.org/issue25942\u001b[0m\u001b[0;34m\u001b[0m\u001b[0;34m\u001b[0m\u001b[0;34m\u001b[0m\u001b[0m\n",
      "\u001b[0;32m~/miniconda3/envs/fluctmatch/lib/python3.8/subprocess.py\u001b[0m in \u001b[0;36m_wait\u001b[0;34m(self, timeout)\u001b[0m\n\u001b[1;32m   1802\u001b[0m                         \u001b[0;32mif\u001b[0m \u001b[0mself\u001b[0m\u001b[0;34m.\u001b[0m\u001b[0mreturncode\u001b[0m \u001b[0;32mis\u001b[0m \u001b[0;32mnot\u001b[0m \u001b[0;32mNone\u001b[0m\u001b[0;34m:\u001b[0m\u001b[0;34m\u001b[0m\u001b[0;34m\u001b[0m\u001b[0m\n\u001b[1;32m   1803\u001b[0m                             \u001b[0;32mbreak\u001b[0m  \u001b[0;31m# Another thread waited.\u001b[0m\u001b[0;34m\u001b[0m\u001b[0;34m\u001b[0m\u001b[0m\n\u001b[0;32m-> 1804\u001b[0;31m                         \u001b[0;34m(\u001b[0m\u001b[0mpid\u001b[0m\u001b[0;34m,\u001b[0m \u001b[0msts\u001b[0m\u001b[0;34m)\u001b[0m \u001b[0;34m=\u001b[0m \u001b[0mself\u001b[0m\u001b[0;34m.\u001b[0m\u001b[0m_try_wait\u001b[0m\u001b[0;34m(\u001b[0m\u001b[0;36m0\u001b[0m\u001b[0;34m)\u001b[0m\u001b[0;34m\u001b[0m\u001b[0;34m\u001b[0m\u001b[0m\n\u001b[0m\u001b[1;32m   1805\u001b[0m                         \u001b[0;31m# Check the pid and loop as waitpid has been known to\u001b[0m\u001b[0;34m\u001b[0m\u001b[0;34m\u001b[0m\u001b[0;34m\u001b[0m\u001b[0m\n\u001b[1;32m   1806\u001b[0m                         \u001b[0;31m# return 0 even without WNOHANG in odd situations.\u001b[0m\u001b[0;34m\u001b[0m\u001b[0;34m\u001b[0m\u001b[0;34m\u001b[0m\u001b[0m\n",
      "\u001b[0;32m~/miniconda3/envs/fluctmatch/lib/python3.8/subprocess.py\u001b[0m in \u001b[0;36m_try_wait\u001b[0;34m(self, wait_flags)\u001b[0m\n\u001b[1;32m   1760\u001b[0m             \u001b[0;34m\"\"\"All callers to this function MUST hold self._waitpid_lock.\"\"\"\u001b[0m\u001b[0;34m\u001b[0m\u001b[0;34m\u001b[0m\u001b[0m\n\u001b[1;32m   1761\u001b[0m             \u001b[0;32mtry\u001b[0m\u001b[0;34m:\u001b[0m\u001b[0;34m\u001b[0m\u001b[0;34m\u001b[0m\u001b[0m\n\u001b[0;32m-> 1762\u001b[0;31m                 \u001b[0;34m(\u001b[0m\u001b[0mpid\u001b[0m\u001b[0;34m,\u001b[0m \u001b[0msts\u001b[0m\u001b[0;34m)\u001b[0m \u001b[0;34m=\u001b[0m \u001b[0mos\u001b[0m\u001b[0;34m.\u001b[0m\u001b[0mwaitpid\u001b[0m\u001b[0;34m(\u001b[0m\u001b[0mself\u001b[0m\u001b[0;34m.\u001b[0m\u001b[0mpid\u001b[0m\u001b[0;34m,\u001b[0m \u001b[0mwait_flags\u001b[0m\u001b[0;34m)\u001b[0m\u001b[0;34m\u001b[0m\u001b[0;34m\u001b[0m\u001b[0m\n\u001b[0m\u001b[1;32m   1763\u001b[0m             \u001b[0;32mexcept\u001b[0m \u001b[0mChildProcessError\u001b[0m\u001b[0;34m:\u001b[0m\u001b[0;34m\u001b[0m\u001b[0;34m\u001b[0m\u001b[0m\n\u001b[1;32m   1764\u001b[0m                 \u001b[0;31m# This happens if SIGCLD is set to be ignored or waiting\u001b[0m\u001b[0;34m\u001b[0m\u001b[0;34m\u001b[0m\u001b[0;34m\u001b[0m\u001b[0m\n",
      "\u001b[0;31mKeyboardInterrupt\u001b[0m: "
     ]
    }
   ],
   "source": [
    "fluctmatch_interface.main_split_window(bigtraj_folder, host, type_na, time_label, cutoff, start, end, charmm)"
   ]
  },
  {
   "cell_type": "code",
   "execution_count": null,
   "metadata": {},
   "outputs": [],
   "source": []
  }
 ],
 "metadata": {
  "kernelspec": {
   "display_name": "Python 3",
   "language": "python",
   "name": "python3"
  },
  "language_info": {
   "codemirror_mode": {
    "name": "ipython",
    "version": 3
   },
   "file_extension": ".py",
   "mimetype": "text/x-python",
   "name": "python",
   "nbconvert_exporter": "python",
   "pygments_lexer": "ipython3",
   "version": "3.8.5"
  }
 },
 "nbformat": 4,
 "nbformat_minor": 4
}
