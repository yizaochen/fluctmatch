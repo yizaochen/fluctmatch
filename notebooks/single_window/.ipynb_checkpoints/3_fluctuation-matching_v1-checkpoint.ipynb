{
 "cells": [
  {
   "cell_type": "markdown",
   "metadata": {},
   "source": [
    "The default location for the execution of this notebook is local computer"
   ]
  },
  {
   "cell_type": "code",
   "execution_count": 1,
   "metadata": {},
   "outputs": [],
   "source": [
    "from os import path\n",
    "import shutil \n",
    "from fluctmatch import fluctmatch_interface\n",
    "from fluctmatch.miscell import check_dir_exist_and_make"
   ]
  },
  {
   "cell_type": "markdown",
   "metadata": {},
   "source": [
    "### Part 1: Set Original Workspace Folder"
   ]
  },
  {
   "cell_type": "code",
   "execution_count": 2,
   "metadata": {},
   "outputs": [],
   "source": [
    "workspace_folder = '/home/yizaochen/codes/dna_rna/fluctmatch_sequence'"
   ]
  },
  {
   "cell_type": "markdown",
   "metadata": {},
   "source": [
    "### Part 2: Set CHARMM Path and host and Create time-label folder"
   ]
  },
  {
   "cell_type": "code",
   "execution_count": 3,
   "metadata": {},
   "outputs": [
    {
     "name": "stdout",
     "output_type": "stream",
     "text": [
      "Working folder: /home/yizaochen/codes/dna_rna/fluctmatch_sequence/a_tract_21mer/bdna+bdna/0_50000\n",
      "mkdir /home/yizaochen/codes/dna_rna/fluctmatch_sequence/a_tract_21mer/bdna+bdna/0_50000\n"
     ]
    }
   ],
   "source": [
    "charmm = '/home/yizaochen/opt/c41b1_yz/charmm'\n",
    "host = 'a_tract_21mer'\n",
    "type_na = 'bdna+bdna'\n",
    "time_label = '0_50000'\n",
    "\n",
    "host_folder = path.join(workspace_folder, host)\n",
    "na_folder = path.join(host_folder, type_na)\n",
    "time_label_folder = path.join(na_folder, time_label)\n",
    "print(f'Working folder: {time_label_folder}')\n",
    "\n",
    "check_dir_exist_and_make(time_label_folder)"
   ]
  },
  {
   "cell_type": "markdown",
   "metadata": {},
   "source": [
    "### Part 3: Move previous folders into it"
   ]
  },
  {
   "cell_type": "code",
   "execution_count": 4,
   "metadata": {},
   "outputs": [
    {
     "name": "stdout",
     "output_type": "stream",
     "text": [
      "mv /home/yizaochen/codes/dna_rna/fluctmatch_sequence/a_tract_21mer/bdna+bdna/charmm_dat /home/yizaochen/codes/dna_rna/fluctmatch_sequence/a_tract_21mer/bdna+bdna/0_50000/charmm_dat\n",
      "mv /home/yizaochen/codes/dna_rna/fluctmatch_sequence/a_tract_21mer/bdna+bdna/data /home/yizaochen/codes/dna_rna/fluctmatch_sequence/a_tract_21mer/bdna+bdna/0_50000/data\n",
      "mv /home/yizaochen/codes/dna_rna/fluctmatch_sequence/a_tract_21mer/bdna+bdna/ic_fluct_mat /home/yizaochen/codes/dna_rna/fluctmatch_sequence/a_tract_21mer/bdna+bdna/0_50000/ic_fluct_mat\n",
      "mv /home/yizaochen/codes/dna_rna/fluctmatch_sequence/a_tract_21mer/bdna+bdna/mode_traj /home/yizaochen/codes/dna_rna/fluctmatch_sequence/a_tract_21mer/bdna+bdna/0_50000/mode_traj\n",
      "mv /home/yizaochen/codes/dna_rna/fluctmatch_sequence/a_tract_21mer/bdna+bdna/scratch /home/yizaochen/codes/dna_rna/fluctmatch_sequence/a_tract_21mer/bdna+bdna/0_50000/scratch\n",
      "mv /home/yizaochen/codes/dna_rna/fluctmatch_sequence/a_tract_21mer/bdna+bdna/charmm_inp /home/yizaochen/codes/dna_rna/fluctmatch_sequence/a_tract_21mer/bdna+bdna/0_50000/charmm_inp\n",
      "mv /home/yizaochen/codes/dna_rna/fluctmatch_sequence/a_tract_21mer/bdna+bdna/ic /home/yizaochen/codes/dna_rna/fluctmatch_sequence/a_tract_21mer/bdna+bdna/0_50000/ic\n",
      "mv /home/yizaochen/codes/dna_rna/fluctmatch_sequence/a_tract_21mer/bdna+bdna/input /home/yizaochen/codes/dna_rna/fluctmatch_sequence/a_tract_21mer/bdna+bdna/0_50000/input\n",
      "mv /home/yizaochen/codes/dna_rna/fluctmatch_sequence/a_tract_21mer/bdna+bdna/rtf_ic_str /home/yizaochen/codes/dna_rna/fluctmatch_sequence/a_tract_21mer/bdna+bdna/0_50000/rtf_ic_str\n"
     ]
    }
   ],
   "source": [
    "folders = ['charmm_dat', 'data', 'ic_fluct_mat', 'mode_traj', 'scratch', 'charmm_inp', 'ic', 'input', 'rtf_ic_str']\n",
    "for folder in folders:\n",
    "    old_folder = path.join(na_folder, folder)\n",
    "    new_folder = path.join(time_label_folder, folder)\n",
    "    if path.exists(new_folder):\n",
    "        print(\"{0} exists. No action\".format(file_path))\n",
    "    else:\n",
    "        shutil.move(old_folder, new_folder)\n",
    "        print(f'mv {old_folder} {new_folder}')"
   ]
  },
  {
   "cell_type": "code",
   "execution_count": 5,
   "metadata": {},
   "outputs": [
    {
     "name": "stdout",
     "output_type": "stream",
     "text": [
      "mv /home/yizaochen/codes/dna_rna/fluctmatch_sequence/a_tract_21mer/bdna+bdna/0_50000/mode_traj/mode.0.dcd /home/yizaochen/codes/dna_rna/fluctmatch_sequence/a_tract_21mer/bdna+bdna/0_50000/input/0_50000.nohydrogen.dcd\n"
     ]
    }
   ],
   "source": [
    "old_dcd = path.join(time_label_folder, 'mode_traj', 'mode.0.dcd')\n",
    "new_dcd = path.join(time_label_folder, 'input', f'{time_label}.nohydrogen.dcd')\n",
    "if path.exists(new_dcd):\n",
    "    print(\"{0} exists. No action\".format(file_path))\n",
    "else:\n",
    "    shutil.move(old_dcd, new_dcd)\n",
    "    print(f'mv {old_dcd} {new_dcd}')"
   ]
  },
  {
   "cell_type": "markdown",
   "metadata": {},
   "source": [
    "### Part 4: Set parameters for flutuation-matching"
   ]
  },
  {
   "cell_type": "code",
   "execution_count": 6,
   "metadata": {},
   "outputs": [],
   "source": [
    "cutoff = 4.7\n",
    "start = 0\n",
    "end = 250\n",
    "\n",
    "bigtraj_folder = workspace_folder"
   ]
  },
  {
   "cell_type": "markdown",
   "metadata": {},
   "source": [
    "### Part 5: Run Fluctuation-Matching"
   ]
  },
  {
   "cell_type": "code",
   "execution_count": null,
   "metadata": {},
   "outputs": [
    {
     "name": "stdout",
     "output_type": "stream",
     "text": [
      "/scratch/a_tract_21mer exists\n",
      "/scratch/a_tract_21mer/bdna+bdna exists\n",
      "mkdir /scratch/a_tract_21mer/bdna+bdna/0_50000\n",
      "charmm< /home/yizaochen/codes/dna_rna/fluctmatch_sequence/a_tract_21mer/bdna+bdna/0_50000/charmm_inp/ic_fluct_4.70.inp > /home/yizaochen/codes/dna_rna/fluctmatch_sequence/a_tract_21mer/bdna+bdna/0_50000/charmm_dat/ic_fluct_4.70.dat\n",
      "charmm< /home/yizaochen/codes/dna_rna/fluctmatch_sequence/a_tract_21mer/bdna+bdna/0_50000/charmm_inp/ic_avg_4.70.inp > /home/yizaochen/codes/dna_rna/fluctmatch_sequence/a_tract_21mer/bdna+bdna/0_50000/charmm_dat/ic_avg_4.70.dat\n",
      "charmm< /scratch/a_tract_21mer/bdna+bdna/0_50000/nmainit.inp > /scratch/a_tract_21mer/bdna+bdna/0_50000/nmainit.dat\n",
      "mkdir /scratch/a_tract_21mer/bdna+bdna/0_50000/backup\n",
      "IterNum: 0\n",
      "charmm< /scratch/a_tract_21mer/bdna+bdna/0_50000/nma.inp > /scratch/a_tract_21mer/bdna+bdna/0_50000/nma.dat\n",
      "IterNum: 1\n",
      "charmm< /scratch/a_tract_21mer/bdna+bdna/0_50000/nma.inp > /scratch/a_tract_21mer/bdna+bdna/0_50000/nma.dat\n",
      "IterNum: 2\n",
      "charmm< /scratch/a_tract_21mer/bdna+bdna/0_50000/nma.inp > /scratch/a_tract_21mer/bdna+bdna/0_50000/nma.dat\n",
      "IterNum: 3\n",
      "charmm< /scratch/a_tract_21mer/bdna+bdna/0_50000/nma.inp > /scratch/a_tract_21mer/bdna+bdna/0_50000/nma.dat\n",
      "IterNum: 4\n",
      "charmm< /scratch/a_tract_21mer/bdna+bdna/0_50000/nma.inp > /scratch/a_tract_21mer/bdna+bdna/0_50000/nma.dat\n",
      "IterNum: 5\n",
      "charmm< /scratch/a_tract_21mer/bdna+bdna/0_50000/nma.inp > /scratch/a_tract_21mer/bdna+bdna/0_50000/nma.dat\n",
      "IterNum: 6\n",
      "charmm< /scratch/a_tract_21mer/bdna+bdna/0_50000/nma.inp > /scratch/a_tract_21mer/bdna+bdna/0_50000/nma.dat\n",
      "IterNum: 7\n",
      "charmm< /scratch/a_tract_21mer/bdna+bdna/0_50000/nma.inp > /scratch/a_tract_21mer/bdna+bdna/0_50000/nma.dat\n",
      "IterNum: 8\n",
      "charmm< /scratch/a_tract_21mer/bdna+bdna/0_50000/nma.inp > /scratch/a_tract_21mer/bdna+bdna/0_50000/nma.dat\n",
      "IterNum: 9\n",
      "charmm< /scratch/a_tract_21mer/bdna+bdna/0_50000/nma.inp > /scratch/a_tract_21mer/bdna+bdna/0_50000/nma.dat\n",
      "IterNum: 10\n",
      "charmm< /scratch/a_tract_21mer/bdna+bdna/0_50000/nma.inp > /scratch/a_tract_21mer/bdna+bdna/0_50000/nma.dat\n",
      "IterNum: 11\n",
      "charmm< /scratch/a_tract_21mer/bdna+bdna/0_50000/nma.inp > /scratch/a_tract_21mer/bdna+bdna/0_50000/nma.dat\n",
      "IterNum: 12\n",
      "charmm< /scratch/a_tract_21mer/bdna+bdna/0_50000/nma.inp > /scratch/a_tract_21mer/bdna+bdna/0_50000/nma.dat\n",
      "IterNum: 13\n",
      "charmm< /scratch/a_tract_21mer/bdna+bdna/0_50000/nma.inp > /scratch/a_tract_21mer/bdna+bdna/0_50000/nma.dat\n",
      "IterNum: 14\n",
      "charmm< /scratch/a_tract_21mer/bdna+bdna/0_50000/nma.inp > /scratch/a_tract_21mer/bdna+bdna/0_50000/nma.dat\n",
      "IterNum: 15\n",
      "charmm< /scratch/a_tract_21mer/bdna+bdna/0_50000/nma.inp > /scratch/a_tract_21mer/bdna+bdna/0_50000/nma.dat\n",
      "IterNum: 16\n",
      "charmm< /scratch/a_tract_21mer/bdna+bdna/0_50000/nma.inp > /scratch/a_tract_21mer/bdna+bdna/0_50000/nma.dat\n",
      "IterNum: 17\n",
      "charmm< /scratch/a_tract_21mer/bdna+bdna/0_50000/nma.inp > /scratch/a_tract_21mer/bdna+bdna/0_50000/nma.dat\n",
      "IterNum: 18\n",
      "charmm< /scratch/a_tract_21mer/bdna+bdna/0_50000/nma.inp > /scratch/a_tract_21mer/bdna+bdna/0_50000/nma.dat\n",
      "IterNum: 19\n",
      "charmm< /scratch/a_tract_21mer/bdna+bdna/0_50000/nma.inp > /scratch/a_tract_21mer/bdna+bdna/0_50000/nma.dat\n",
      "IterNum: 20\n",
      "charmm< /scratch/a_tract_21mer/bdna+bdna/0_50000/nma.inp > /scratch/a_tract_21mer/bdna+bdna/0_50000/nma.dat\n",
      "IterNum: 21\n",
      "charmm< /scratch/a_tract_21mer/bdna+bdna/0_50000/nma.inp > /scratch/a_tract_21mer/bdna+bdna/0_50000/nma.dat\n",
      "IterNum: 22\n",
      "charmm< /scratch/a_tract_21mer/bdna+bdna/0_50000/nma.inp > /scratch/a_tract_21mer/bdna+bdna/0_50000/nma.dat\n",
      "IterNum: 23\n",
      "charmm< /scratch/a_tract_21mer/bdna+bdna/0_50000/nma.inp > /scratch/a_tract_21mer/bdna+bdna/0_50000/nma.dat\n",
      "IterNum: 24\n",
      "charmm< /scratch/a_tract_21mer/bdna+bdna/0_50000/nma.inp > /scratch/a_tract_21mer/bdna+bdna/0_50000/nma.dat\n",
      "IterNum: 25\n",
      "charmm< /scratch/a_tract_21mer/bdna+bdna/0_50000/nma.inp > /scratch/a_tract_21mer/bdna+bdna/0_50000/nma.dat\n",
      "IterNum: 26\n",
      "charmm< /scratch/a_tract_21mer/bdna+bdna/0_50000/nma.inp > /scratch/a_tract_21mer/bdna+bdna/0_50000/nma.dat\n",
      "IterNum: 27\n",
      "charmm< /scratch/a_tract_21mer/bdna+bdna/0_50000/nma.inp > /scratch/a_tract_21mer/bdna+bdna/0_50000/nma.dat\n",
      "IterNum: 28\n",
      "charmm< /scratch/a_tract_21mer/bdna+bdna/0_50000/nma.inp > /scratch/a_tract_21mer/bdna+bdna/0_50000/nma.dat\n",
      "IterNum: 29\n",
      "charmm< /scratch/a_tract_21mer/bdna+bdna/0_50000/nma.inp > /scratch/a_tract_21mer/bdna+bdna/0_50000/nma.dat\n",
      "IterNum: 30\n",
      "charmm< /scratch/a_tract_21mer/bdna+bdna/0_50000/nma.inp > /scratch/a_tract_21mer/bdna+bdna/0_50000/nma.dat\n",
      "IterNum: 31\n",
      "charmm< /scratch/a_tract_21mer/bdna+bdna/0_50000/nma.inp > /scratch/a_tract_21mer/bdna+bdna/0_50000/nma.dat\n",
      "IterNum: 32\n",
      "charmm< /scratch/a_tract_21mer/bdna+bdna/0_50000/nma.inp > /scratch/a_tract_21mer/bdna+bdna/0_50000/nma.dat\n",
      "IterNum: 33\n",
      "charmm< /scratch/a_tract_21mer/bdna+bdna/0_50000/nma.inp > /scratch/a_tract_21mer/bdna+bdna/0_50000/nma.dat\n",
      "IterNum: 34\n",
      "charmm< /scratch/a_tract_21mer/bdna+bdna/0_50000/nma.inp > /scratch/a_tract_21mer/bdna+bdna/0_50000/nma.dat\n",
      "IterNum: 35\n",
      "charmm< /scratch/a_tract_21mer/bdna+bdna/0_50000/nma.inp > /scratch/a_tract_21mer/bdna+bdna/0_50000/nma.dat\n",
      "IterNum: 36\n",
      "charmm< /scratch/a_tract_21mer/bdna+bdna/0_50000/nma.inp > /scratch/a_tract_21mer/bdna+bdna/0_50000/nma.dat\n",
      "IterNum: 37\n",
      "charmm< /scratch/a_tract_21mer/bdna+bdna/0_50000/nma.inp > /scratch/a_tract_21mer/bdna+bdna/0_50000/nma.dat\n",
      "IterNum: 38\n",
      "charmm< /scratch/a_tract_21mer/bdna+bdna/0_50000/nma.inp > /scratch/a_tract_21mer/bdna+bdna/0_50000/nma.dat\n",
      "IterNum: 39\n",
      "charmm< /scratch/a_tract_21mer/bdna+bdna/0_50000/nma.inp > /scratch/a_tract_21mer/bdna+bdna/0_50000/nma.dat\n",
      "IterNum: 40\n",
      "charmm< /scratch/a_tract_21mer/bdna+bdna/0_50000/nma.inp > /scratch/a_tract_21mer/bdna+bdna/0_50000/nma.dat\n",
      "IterNum: 41\n",
      "charmm< /scratch/a_tract_21mer/bdna+bdna/0_50000/nma.inp > /scratch/a_tract_21mer/bdna+bdna/0_50000/nma.dat\n",
      "IterNum: 42\n",
      "charmm< /scratch/a_tract_21mer/bdna+bdna/0_50000/nma.inp > /scratch/a_tract_21mer/bdna+bdna/0_50000/nma.dat\n",
      "IterNum: 43\n",
      "charmm< /scratch/a_tract_21mer/bdna+bdna/0_50000/nma.inp > /scratch/a_tract_21mer/bdna+bdna/0_50000/nma.dat\n",
      "IterNum: 44\n",
      "charmm< /scratch/a_tract_21mer/bdna+bdna/0_50000/nma.inp > /scratch/a_tract_21mer/bdna+bdna/0_50000/nma.dat\n",
      "IterNum: 45\n",
      "charmm< /scratch/a_tract_21mer/bdna+bdna/0_50000/nma.inp > /scratch/a_tract_21mer/bdna+bdna/0_50000/nma.dat\n",
      "IterNum: 46\n",
      "charmm< /scratch/a_tract_21mer/bdna+bdna/0_50000/nma.inp > /scratch/a_tract_21mer/bdna+bdna/0_50000/nma.dat\n",
      "IterNum: 47\n",
      "charmm< /scratch/a_tract_21mer/bdna+bdna/0_50000/nma.inp > /scratch/a_tract_21mer/bdna+bdna/0_50000/nma.dat\n",
      "IterNum: 48\n",
      "charmm< /scratch/a_tract_21mer/bdna+bdna/0_50000/nma.inp > /scratch/a_tract_21mer/bdna+bdna/0_50000/nma.dat\n",
      "IterNum: 49\n",
      "charmm< /scratch/a_tract_21mer/bdna+bdna/0_50000/nma.inp > /scratch/a_tract_21mer/bdna+bdna/0_50000/nma.dat\n",
      "IterNum: 50\n",
      "charmm< /scratch/a_tract_21mer/bdna+bdna/0_50000/nma.inp > /scratch/a_tract_21mer/bdna+bdna/0_50000/nma.dat\n",
      "IterNum: 51\n",
      "charmm< /scratch/a_tract_21mer/bdna+bdna/0_50000/nma.inp > /scratch/a_tract_21mer/bdna+bdna/0_50000/nma.dat\n",
      "IterNum: 52\n",
      "charmm< /scratch/a_tract_21mer/bdna+bdna/0_50000/nma.inp > /scratch/a_tract_21mer/bdna+bdna/0_50000/nma.dat\n",
      "IterNum: 53\n",
      "charmm< /scratch/a_tract_21mer/bdna+bdna/0_50000/nma.inp > /scratch/a_tract_21mer/bdna+bdna/0_50000/nma.dat\n",
      "IterNum: 54\n",
      "charmm< /scratch/a_tract_21mer/bdna+bdna/0_50000/nma.inp > /scratch/a_tract_21mer/bdna+bdna/0_50000/nma.dat\n",
      "IterNum: 55\n",
      "charmm< /scratch/a_tract_21mer/bdna+bdna/0_50000/nma.inp > /scratch/a_tract_21mer/bdna+bdna/0_50000/nma.dat\n",
      "IterNum: 56\n",
      "charmm< /scratch/a_tract_21mer/bdna+bdna/0_50000/nma.inp > /scratch/a_tract_21mer/bdna+bdna/0_50000/nma.dat\n",
      "IterNum: 57\n",
      "charmm< /scratch/a_tract_21mer/bdna+bdna/0_50000/nma.inp > /scratch/a_tract_21mer/bdna+bdna/0_50000/nma.dat\n",
      "IterNum: 58\n",
      "charmm< /scratch/a_tract_21mer/bdna+bdna/0_50000/nma.inp > /scratch/a_tract_21mer/bdna+bdna/0_50000/nma.dat\n",
      "IterNum: 59\n",
      "charmm< /scratch/a_tract_21mer/bdna+bdna/0_50000/nma.inp > /scratch/a_tract_21mer/bdna+bdna/0_50000/nma.dat\n",
      "IterNum: 60\n",
      "charmm< /scratch/a_tract_21mer/bdna+bdna/0_50000/nma.inp > /scratch/a_tract_21mer/bdna+bdna/0_50000/nma.dat\n",
      "IterNum: 61\n",
      "charmm< /scratch/a_tract_21mer/bdna+bdna/0_50000/nma.inp > /scratch/a_tract_21mer/bdna+bdna/0_50000/nma.dat\n",
      "IterNum: 62\n",
      "charmm< /scratch/a_tract_21mer/bdna+bdna/0_50000/nma.inp > /scratch/a_tract_21mer/bdna+bdna/0_50000/nma.dat\n",
      "IterNum: 63\n",
      "charmm< /scratch/a_tract_21mer/bdna+bdna/0_50000/nma.inp > /scratch/a_tract_21mer/bdna+bdna/0_50000/nma.dat\n",
      "IterNum: 64\n",
      "charmm< /scratch/a_tract_21mer/bdna+bdna/0_50000/nma.inp > /scratch/a_tract_21mer/bdna+bdna/0_50000/nma.dat\n",
      "IterNum: 65\n",
      "charmm< /scratch/a_tract_21mer/bdna+bdna/0_50000/nma.inp > /scratch/a_tract_21mer/bdna+bdna/0_50000/nma.dat\n",
      "IterNum: 66\n",
      "charmm< /scratch/a_tract_21mer/bdna+bdna/0_50000/nma.inp > /scratch/a_tract_21mer/bdna+bdna/0_50000/nma.dat\n",
      "IterNum: 67\n",
      "charmm< /scratch/a_tract_21mer/bdna+bdna/0_50000/nma.inp > /scratch/a_tract_21mer/bdna+bdna/0_50000/nma.dat\n",
      "IterNum: 68\n",
      "charmm< /scratch/a_tract_21mer/bdna+bdna/0_50000/nma.inp > /scratch/a_tract_21mer/bdna+bdna/0_50000/nma.dat\n",
      "IterNum: 69\n",
      "charmm< /scratch/a_tract_21mer/bdna+bdna/0_50000/nma.inp > /scratch/a_tract_21mer/bdna+bdna/0_50000/nma.dat\n",
      "IterNum: 70\n",
      "charmm< /scratch/a_tract_21mer/bdna+bdna/0_50000/nma.inp > /scratch/a_tract_21mer/bdna+bdna/0_50000/nma.dat\n",
      "IterNum: 71\n",
      "charmm< /scratch/a_tract_21mer/bdna+bdna/0_50000/nma.inp > /scratch/a_tract_21mer/bdna+bdna/0_50000/nma.dat\n",
      "IterNum: 72\n",
      "charmm< /scratch/a_tract_21mer/bdna+bdna/0_50000/nma.inp > /scratch/a_tract_21mer/bdna+bdna/0_50000/nma.dat\n",
      "IterNum: 73\n",
      "charmm< /scratch/a_tract_21mer/bdna+bdna/0_50000/nma.inp > /scratch/a_tract_21mer/bdna+bdna/0_50000/nma.dat\n",
      "IterNum: 74\n",
      "charmm< /scratch/a_tract_21mer/bdna+bdna/0_50000/nma.inp > /scratch/a_tract_21mer/bdna+bdna/0_50000/nma.dat\n",
      "IterNum: 75\n",
      "charmm< /scratch/a_tract_21mer/bdna+bdna/0_50000/nma.inp > /scratch/a_tract_21mer/bdna+bdna/0_50000/nma.dat\n",
      "IterNum: 76\n",
      "charmm< /scratch/a_tract_21mer/bdna+bdna/0_50000/nma.inp > /scratch/a_tract_21mer/bdna+bdna/0_50000/nma.dat\n",
      "IterNum: 77\n",
      "charmm< /scratch/a_tract_21mer/bdna+bdna/0_50000/nma.inp > /scratch/a_tract_21mer/bdna+bdna/0_50000/nma.dat\n",
      "IterNum: 78\n",
      "charmm< /scratch/a_tract_21mer/bdna+bdna/0_50000/nma.inp > /scratch/a_tract_21mer/bdna+bdna/0_50000/nma.dat\n",
      "IterNum: 79\n",
      "charmm< /scratch/a_tract_21mer/bdna+bdna/0_50000/nma.inp > /scratch/a_tract_21mer/bdna+bdna/0_50000/nma.dat\n",
      "IterNum: 80\n",
      "charmm< /scratch/a_tract_21mer/bdna+bdna/0_50000/nma.inp > /scratch/a_tract_21mer/bdna+bdna/0_50000/nma.dat\n",
      "IterNum: 81\n",
      "charmm< /scratch/a_tract_21mer/bdna+bdna/0_50000/nma.inp > /scratch/a_tract_21mer/bdna+bdna/0_50000/nma.dat\n",
      "IterNum: 82\n",
      "charmm< /scratch/a_tract_21mer/bdna+bdna/0_50000/nma.inp > /scratch/a_tract_21mer/bdna+bdna/0_50000/nma.dat\n",
      "IterNum: 83\n",
      "charmm< /scratch/a_tract_21mer/bdna+bdna/0_50000/nma.inp > /scratch/a_tract_21mer/bdna+bdna/0_50000/nma.dat\n",
      "IterNum: 84\n",
      "charmm< /scratch/a_tract_21mer/bdna+bdna/0_50000/nma.inp > /scratch/a_tract_21mer/bdna+bdna/0_50000/nma.dat\n",
      "IterNum: 85\n",
      "charmm< /scratch/a_tract_21mer/bdna+bdna/0_50000/nma.inp > /scratch/a_tract_21mer/bdna+bdna/0_50000/nma.dat\n",
      "IterNum: 86\n",
      "charmm< /scratch/a_tract_21mer/bdna+bdna/0_50000/nma.inp > /scratch/a_tract_21mer/bdna+bdna/0_50000/nma.dat\n",
      "IterNum: 87\n",
      "charmm< /scratch/a_tract_21mer/bdna+bdna/0_50000/nma.inp > /scratch/a_tract_21mer/bdna+bdna/0_50000/nma.dat\n",
      "IterNum: 88\n",
      "charmm< /scratch/a_tract_21mer/bdna+bdna/0_50000/nma.inp > /scratch/a_tract_21mer/bdna+bdna/0_50000/nma.dat\n",
      "IterNum: 89\n",
      "charmm< /scratch/a_tract_21mer/bdna+bdna/0_50000/nma.inp > /scratch/a_tract_21mer/bdna+bdna/0_50000/nma.dat\n",
      "IterNum: 90\n",
      "charmm< /scratch/a_tract_21mer/bdna+bdna/0_50000/nma.inp > /scratch/a_tract_21mer/bdna+bdna/0_50000/nma.dat\n",
      "IterNum: 91\n",
      "charmm< /scratch/a_tract_21mer/bdna+bdna/0_50000/nma.inp > /scratch/a_tract_21mer/bdna+bdna/0_50000/nma.dat\n",
      "IterNum: 92\n",
      "charmm< /scratch/a_tract_21mer/bdna+bdna/0_50000/nma.inp > /scratch/a_tract_21mer/bdna+bdna/0_50000/nma.dat\n",
      "IterNum: 93\n",
      "charmm< /scratch/a_tract_21mer/bdna+bdna/0_50000/nma.inp > /scratch/a_tract_21mer/bdna+bdna/0_50000/nma.dat\n",
      "IterNum: 94\n",
      "charmm< /scratch/a_tract_21mer/bdna+bdna/0_50000/nma.inp > /scratch/a_tract_21mer/bdna+bdna/0_50000/nma.dat\n",
      "IterNum: 95\n",
      "charmm< /scratch/a_tract_21mer/bdna+bdna/0_50000/nma.inp > /scratch/a_tract_21mer/bdna+bdna/0_50000/nma.dat\n",
      "IterNum: 96\n",
      "charmm< /scratch/a_tract_21mer/bdna+bdna/0_50000/nma.inp > /scratch/a_tract_21mer/bdna+bdna/0_50000/nma.dat\n",
      "IterNum: 97\n",
      "charmm< /scratch/a_tract_21mer/bdna+bdna/0_50000/nma.inp > /scratch/a_tract_21mer/bdna+bdna/0_50000/nma.dat\n",
      "IterNum: 98\n",
      "charmm< /scratch/a_tract_21mer/bdna+bdna/0_50000/nma.inp > /scratch/a_tract_21mer/bdna+bdna/0_50000/nma.dat\n",
      "IterNum: 99\n",
      "charmm< /scratch/a_tract_21mer/bdna+bdna/0_50000/nma.inp > /scratch/a_tract_21mer/bdna+bdna/0_50000/nma.dat\n",
      "IterNum: 100\n",
      "charmm< /scratch/a_tract_21mer/bdna+bdna/0_50000/nma.inp > /scratch/a_tract_21mer/bdna+bdna/0_50000/nma.dat\n",
      "IterNum: 101\n",
      "charmm< /scratch/a_tract_21mer/bdna+bdna/0_50000/nma.inp > /scratch/a_tract_21mer/bdna+bdna/0_50000/nma.dat\n",
      "IterNum: 102\n",
      "charmm< /scratch/a_tract_21mer/bdna+bdna/0_50000/nma.inp > /scratch/a_tract_21mer/bdna+bdna/0_50000/nma.dat\n",
      "IterNum: 103\n",
      "charmm< /scratch/a_tract_21mer/bdna+bdna/0_50000/nma.inp > /scratch/a_tract_21mer/bdna+bdna/0_50000/nma.dat\n",
      "IterNum: 104\n",
      "charmm< /scratch/a_tract_21mer/bdna+bdna/0_50000/nma.inp > /scratch/a_tract_21mer/bdna+bdna/0_50000/nma.dat\n",
      "IterNum: 105\n",
      "charmm< /scratch/a_tract_21mer/bdna+bdna/0_50000/nma.inp > /scratch/a_tract_21mer/bdna+bdna/0_50000/nma.dat\n",
      "IterNum: 106\n",
      "charmm< /scratch/a_tract_21mer/bdna+bdna/0_50000/nma.inp > /scratch/a_tract_21mer/bdna+bdna/0_50000/nma.dat\n",
      "IterNum: 107\n",
      "charmm< /scratch/a_tract_21mer/bdna+bdna/0_50000/nma.inp > /scratch/a_tract_21mer/bdna+bdna/0_50000/nma.dat\n",
      "IterNum: 108\n",
      "charmm< /scratch/a_tract_21mer/bdna+bdna/0_50000/nma.inp > /scratch/a_tract_21mer/bdna+bdna/0_50000/nma.dat\n",
      "IterNum: 109\n",
      "charmm< /scratch/a_tract_21mer/bdna+bdna/0_50000/nma.inp > /scratch/a_tract_21mer/bdna+bdna/0_50000/nma.dat\n",
      "IterNum: 110\n",
      "charmm< /scratch/a_tract_21mer/bdna+bdna/0_50000/nma.inp > /scratch/a_tract_21mer/bdna+bdna/0_50000/nma.dat\n",
      "IterNum: 111\n",
      "charmm< /scratch/a_tract_21mer/bdna+bdna/0_50000/nma.inp > /scratch/a_tract_21mer/bdna+bdna/0_50000/nma.dat\n",
      "IterNum: 112\n",
      "charmm< /scratch/a_tract_21mer/bdna+bdna/0_50000/nma.inp > /scratch/a_tract_21mer/bdna+bdna/0_50000/nma.dat\n",
      "IterNum: 113\n",
      "charmm< /scratch/a_tract_21mer/bdna+bdna/0_50000/nma.inp > /scratch/a_tract_21mer/bdna+bdna/0_50000/nma.dat\n",
      "IterNum: 114\n",
      "charmm< /scratch/a_tract_21mer/bdna+bdna/0_50000/nma.inp > /scratch/a_tract_21mer/bdna+bdna/0_50000/nma.dat\n",
      "IterNum: 115\n",
      "charmm< /scratch/a_tract_21mer/bdna+bdna/0_50000/nma.inp > /scratch/a_tract_21mer/bdna+bdna/0_50000/nma.dat\n",
      "IterNum: 116\n",
      "charmm< /scratch/a_tract_21mer/bdna+bdna/0_50000/nma.inp > /scratch/a_tract_21mer/bdna+bdna/0_50000/nma.dat\n",
      "IterNum: 117\n",
      "charmm< /scratch/a_tract_21mer/bdna+bdna/0_50000/nma.inp > /scratch/a_tract_21mer/bdna+bdna/0_50000/nma.dat\n",
      "IterNum: 118\n",
      "charmm< /scratch/a_tract_21mer/bdna+bdna/0_50000/nma.inp > /scratch/a_tract_21mer/bdna+bdna/0_50000/nma.dat\n",
      "IterNum: 119\n",
      "charmm< /scratch/a_tract_21mer/bdna+bdna/0_50000/nma.inp > /scratch/a_tract_21mer/bdna+bdna/0_50000/nma.dat\n"
     ]
    }
   ],
   "source": [
    "fluctmatch_interface.main_split_window(bigtraj_folder, host, type_na, time_label, cutoff, start, end, charmm)"
   ]
  },
  {
   "cell_type": "code",
   "execution_count": null,
   "metadata": {},
   "outputs": [],
   "source": [
    "\n"
   ]
  }
 ],
 "metadata": {
  "kernelspec": {
   "display_name": "Python 3",
   "language": "python",
   "name": "python3"
  },
  "language_info": {
   "codemirror_mode": {
    "name": "ipython",
    "version": 3
   },
   "file_extension": ".py",
   "mimetype": "text/x-python",
   "name": "python",
   "nbconvert_exporter": "python",
   "pygments_lexer": "ipython3",
   "version": "3.8.5"
  }
 },
 "nbformat": 4,
 "nbformat_minor": 4
}
